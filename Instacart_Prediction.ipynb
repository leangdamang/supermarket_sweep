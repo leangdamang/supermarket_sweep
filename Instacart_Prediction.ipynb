{
 "cells": [
  {
   "cell_type": "code",
   "execution_count": 21,
   "metadata": {
    "collapsed": true
   },
   "outputs": [],
   "source": [
    "from __future__ import print_function\n",
    "\n",
    "import pandas as pd\n",
    "import numpy as np\n",
    "import matplotlib.pyplot as plt\n",
    "import seaborn as sns\n",
    "import statsmodels.api as sm\n",
    "\n",
    "from sklearn import preprocessing\n",
    "from sklearn.cross_validation import KFold\n",
    "from sklearn.model_selection import train_test_split\n",
    "from sklearn.metrics import classification_report\n",
    "from sklearn.cross_validation import cross_val_score\n",
    "from sklearn.ensemble import RandomForestClassifier\n",
    "from sklearn.ensemble import AdaBoostClassifier\n",
    "from sklearn.ensemble import GradientBoostingClassifier\n",
    "from sklearn.tree import DecisionTreeClassifier\n",
    "from sklearn.svm import SVC\n",
    "from sklearn.naive_bayes import GaussianNB\n",
    "from sklearn.learning_curve import learning_curve\n",
    "from sklearn.linear_model import LogisticRegression\n",
    "from sklearn.neighbors import KNeighborsClassifier\n",
    "from sklearn.metrics import accuracy_score\n",
    "from sklearn.externals import joblib\n",
    "from sklearn.model_selection import GridSearchCV\n",
    "from sklearn.ensemble import VotingClassifier\n",
    "from sklearn.metrics import roc_curve, auc, roc_auc_score, f1_score\n",
    "from sklearn.metrics import confusion_matrix\n",
    "from sklearn.preprocessing import StandardScaler\n",
    "\n",
    "%matplotlib inline\n",
    "\n",
    "    \n",
    "def convert_eval(text):\n",
    "    if text == 'prior':\n",
    "        return 0\n",
    "    elif text == 'train':\n",
    "        return 1\n",
    "    elif text == 'test': \n",
    "        return 2\n",
    "    else:\n",
    "        return text\n",
    "    \n",
    "def convert_order_gap(value):\n",
    "    if value >= 30:\n",
    "        return np.random.randint(30, 60)\n",
    "    else:\n",
    "        return value\n",
    "    \n",
    "#adds classes based on reorder rates\n",
    "def convert_reorder_class(value):\n",
    "    if value >= .5:\n",
    "        return 2\n",
    "    else:\n",
    "        return 1\n",
    "    \n",
    "\n",
    "#adds classes for avg cart size \n",
    "def convert_class_cart(value):\n",
    "    if value <= 6.5:\n",
    "        return 3\n",
    "    elif value <= 11.5:\n",
    "        return 4\n",
    "    else:\n",
    "        return 5\n",
    "#adjusting the streak counts to account for the first order, which has 0 reorders\n",
    "def adjust_streak(value):\n",
    "    if value > 0:\n",
    "        return value+1\n",
    "    else:\n",
    "        return value\n",
    "    \n",
    "def get_streak_count(dataframe, column, streak):\n",
    "    df = dataframe[dataframe[column] == streak].drop('product_id', 1).groupby('user_id').count().reset_index()\n",
    "    df = df.rename(columns = {column: str(streak)+'_streak'})\n",
    "    return df\n",
    "\n",
    "\n",
    "def resamplingv2(df, column, classname):\n",
    "    m = max(df[column].value_counts())\n",
    "    class_df = df[df[column] == classname]\n",
    "    rest_df = df[df[column] != classname]\n",
    "    if len(class_df[column]) < m:\n",
    "        random_index = np.random.choice(class_df.index, m, replace = True)\n",
    "        rest_df = rest_df.append(class_df.loc[random_index])\n",
    "        return rest_df\n",
    "    else:\n",
    "        return rest_df.append(class_df)\n",
    "    \n",
    "pd.set_option(\"display.max_rows\",20)"
   ]
  },
  {
   "cell_type": "code",
   "execution_count": 19,
   "metadata": {
    "collapsed": true
   },
   "outputs": [],
   "source": [
    "df_orders = pd.read_csv('data/orders.csv')\n",
    "df_aisle = pd.read_csv('data/aisles.csv')\n",
    "#list of the aisles - diff of aisles & depts?\n",
    "df_dept = pd.read_csv('data/departments.csv')\n",
    "#list of the departments\n",
    "df_prod = pd.read_csv('data/products.csv')\n",
    "#list of all the products\n",
    "df_order_prior = pd.read_csv('data/order_products__prior.csv')\n",
    "#all prior orders; dataframe is massive\n",
    "df_order_train = pd.read_csv('data/order_products__prior.csv')\n",
    "#training set"
   ]
  },
  {
   "cell_type": "markdown",
   "metadata": {},
   "source": [
    "Creating a master document with all the product data"
   ]
  },
  {
   "cell_type": "code",
   "execution_count": 20,
   "metadata": {
    "collapsed": false
   },
   "outputs": [
    {
     "data": {
      "text/html": [
       "<div>\n",
       "<style>\n",
       "    .dataframe thead tr:only-child th {\n",
       "        text-align: right;\n",
       "    }\n",
       "\n",
       "    .dataframe thead th {\n",
       "        text-align: left;\n",
       "    }\n",
       "\n",
       "    .dataframe tbody tr th {\n",
       "        vertical-align: top;\n",
       "    }\n",
       "</style>\n",
       "<table border=\"1\" class=\"dataframe\">\n",
       "  <thead>\n",
       "    <tr style=\"text-align: right;\">\n",
       "      <th></th>\n",
       "      <th>product_id</th>\n",
       "      <th>product_name</th>\n",
       "      <th>aisle_id</th>\n",
       "      <th>department_id</th>\n",
       "      <th>department</th>\n",
       "      <th>aisle</th>\n",
       "    </tr>\n",
       "  </thead>\n",
       "  <tbody>\n",
       "    <tr>\n",
       "      <th>0</th>\n",
       "      <td>1</td>\n",
       "      <td>Chocolate Sandwich Cookies</td>\n",
       "      <td>61</td>\n",
       "      <td>19</td>\n",
       "      <td>snacks</td>\n",
       "      <td>cookies cakes</td>\n",
       "    </tr>\n",
       "    <tr>\n",
       "      <th>1</th>\n",
       "      <td>2</td>\n",
       "      <td>All-Seasons Salt</td>\n",
       "      <td>104</td>\n",
       "      <td>13</td>\n",
       "      <td>pantry</td>\n",
       "      <td>spices seasonings</td>\n",
       "    </tr>\n",
       "    <tr>\n",
       "      <th>2</th>\n",
       "      <td>3</td>\n",
       "      <td>Robust Golden Unsweetened Oolong Tea</td>\n",
       "      <td>94</td>\n",
       "      <td>7</td>\n",
       "      <td>beverages</td>\n",
       "      <td>tea</td>\n",
       "    </tr>\n",
       "    <tr>\n",
       "      <th>3</th>\n",
       "      <td>4</td>\n",
       "      <td>Smart Ones Classic Favorites Mini Rigatoni Wit...</td>\n",
       "      <td>38</td>\n",
       "      <td>1</td>\n",
       "      <td>frozen</td>\n",
       "      <td>frozen meals</td>\n",
       "    </tr>\n",
       "    <tr>\n",
       "      <th>4</th>\n",
       "      <td>5</td>\n",
       "      <td>Green Chile Anytime Sauce</td>\n",
       "      <td>5</td>\n",
       "      <td>13</td>\n",
       "      <td>pantry</td>\n",
       "      <td>marinades meat preparation</td>\n",
       "    </tr>\n",
       "  </tbody>\n",
       "</table>\n",
       "</div>"
      ],
      "text/plain": [
       "   product_id                                       product_name  aisle_id  \\\n",
       "0           1                         Chocolate Sandwich Cookies        61   \n",
       "1           2                                   All-Seasons Salt       104   \n",
       "2           3               Robust Golden Unsweetened Oolong Tea        94   \n",
       "3           4  Smart Ones Classic Favorites Mini Rigatoni Wit...        38   \n",
       "4           5                          Green Chile Anytime Sauce         5   \n",
       "\n",
       "   department_id department                       aisle  \n",
       "0             19     snacks               cookies cakes  \n",
       "1             13     pantry           spices seasonings  \n",
       "2              7  beverages                         tea  \n",
       "3              1     frozen                frozen meals  \n",
       "4             13     pantry  marinades meat preparation  "
      ]
     },
     "execution_count": 20,
     "metadata": {},
     "output_type": "execute_result"
    }
   ],
   "source": [
    "df_goods= pd.merge(left=pd.merge(left=df_prod, right=df_dept, how='left'), right = df_aisle, how = 'left')\n",
    "\n",
    "df_goods.head()"
   ]
  },
  {
   "cell_type": "code",
   "execution_count": 21,
   "metadata": {
    "collapsed": true
   },
   "outputs": [],
   "source": [
    "df_orders['eval_set'] = df_orders['eval_set'].apply(lambda x: convert_eval(x))"
   ]
  },
  {
   "cell_type": "code",
   "execution_count": 22,
   "metadata": {
    "collapsed": false
   },
   "outputs": [
    {
     "name": "stdout",
     "output_type": "stream",
     "text": [
      "<class 'pandas.core.frame.DataFrame'>\n",
      "RangeIndex: 32434489 entries, 0 to 32434488\n",
      "Data columns (total 4 columns):\n",
      "order_id             int64\n",
      "product_id           int64\n",
      "add_to_cart_order    int64\n",
      "reordered            int64\n",
      "dtypes: int64(4)\n",
      "memory usage: 989.8 MB\n"
     ]
    }
   ],
   "source": [
    "df_order_train.info()"
   ]
  },
  {
   "cell_type": "markdown",
   "metadata": {},
   "source": [
    "Let's see count of orders represented in the data"
   ]
  },
  {
   "cell_type": "code",
   "execution_count": 23,
   "metadata": {
    "collapsed": false
   },
   "outputs": [
    {
     "data": {
      "text/plain": [
       "array([[<matplotlib.axes._subplots.AxesSubplot object at 0x7f11997ef048>]], dtype=object)"
      ]
     },
     "execution_count": 23,
     "metadata": {},
     "output_type": "execute_result"
    },
    {
     "data": {
      "image/png": "[encoded data removed]",
      "text/plain": [
       "<matplotlib.figure.Figure at 0x7f1199c64710>"
      ]
     },
     "metadata": {},
     "output_type": "display_data"
    }
   ],
   "source": [
    "df_orders.hist('order_number', bins = 50)"
   ]
  },
  {
   "cell_type": "markdown",
   "metadata": {},
   "source": [
    "It looks like if I want to use Order Number, I'll have to do a log transformation since it decreases exponentially. They also cap it at the hundredth order.  "
   ]
  },
  {
   "cell_type": "code",
   "execution_count": 24,
   "metadata": {
    "collapsed": false
   },
   "outputs": [
    {
     "data": {
      "text/plain": [
       "array([[<matplotlib.axes._subplots.AxesSubplot object at 0x7f11963ef5c0>]], dtype=object)"
      ]
     },
     "execution_count": 24,
     "metadata": {},
     "output_type": "execute_result"
    },
    {
     "data": {
      "text/plain": [
       "<matplotlib.figure.Figure at 0x7f11963a2eb8>"
      ]
     },
     "metadata": {},
     "output_type": "display_data"
    },
    {
     "data": {
      "image/png": "[encoded data removed]",
      "text/plain": [
       "<matplotlib.figure.Figure at 0x7f1199c7fc88>"
      ]
     },
     "metadata": {},
     "output_type": "display_data"
    }
   ],
   "source": [
    "plt.figure(figsize = (12,9))\n",
    "df_orders.hist('days_since_prior_order', bins = 30)\n"
   ]
  },
  {
   "cell_type": "markdown",
   "metadata": {},
   "source": [
    "We see spikes of orders at 7 days (weekly) and after 30 days. They aggregate anything over 30 days so I should spread this data out eventually "
   ]
  },
  {
   "cell_type": "code",
   "execution_count": 25,
   "metadata": {
    "collapsed": true
   },
   "outputs": [],
   "source": [
    "df_all = pd.merge(df_order_prior, df_goods, \n",
    "                  on = ['product_id', 'product_id'])\n",
    "df_all = df_all.merge(df_orders,on= 'order_id')\n"
   ]
  },
  {
   "cell_type": "code",
   "execution_count": 26,
   "metadata": {
    "collapsed": true
   },
   "outputs": [],
   "source": [
    "df_all['days_since_prior_order'] = df_all['days_since_prior_order'].apply(lambda x: convert_order_gap(x))"
   ]
  },
  {
   "cell_type": "code",
   "execution_count": 27,
   "metadata": {
    "collapsed": false
   },
   "outputs": [
    {
     "data": {
      "text/plain": [
       "array([[<matplotlib.axes._subplots.AxesSubplot object at 0x7f11961f32b0>]], dtype=object)"
      ]
     },
     "execution_count": 27,
     "metadata": {},
     "output_type": "execute_result"
    },
    {
     "data": {
      "image/png": "[encoded data removed]",
      "text/plain": [
       "<matplotlib.figure.Figure at 0x7f119633c400>"
      ]
     },
     "metadata": {},
     "output_type": "display_data"
    }
   ],
   "source": [
    "df_all.hist('days_since_prior_order', bins = 60, figsize = (8,6))"
   ]
  },
  {
   "cell_type": "markdown",
   "metadata": {},
   "source": [
    "That looks a lot better"
   ]
  },
  {
   "cell_type": "code",
   "execution_count": 28,
   "metadata": {
    "collapsed": false
   },
   "outputs": [
    {
     "data": {
      "text/plain": [
       "array([[<matplotlib.axes._subplots.AxesSubplot object at 0x7f11961d19b0>]], dtype=object)"
      ]
     },
     "execution_count": 28,
     "metadata": {},
     "output_type": "execute_result"
    },
    {
     "data": {
      "image/png": "[encoded data removed]",
      "text/plain": [
       "<matplotlib.figure.Figure at 0x7f1196179ba8>"
      ]
     },
     "metadata": {},
     "output_type": "display_data"
    }
   ],
   "source": [
    "df_orders.hist('order_dow')\n"
   ]
  },
  {
   "cell_type": "markdown",
   "metadata": {},
   "source": [
    "It looks like there's more orders on the first 2 days of the week - Monday and Tues"
   ]
  },
  {
   "cell_type": "code",
   "execution_count": 29,
   "metadata": {
    "collapsed": true
   },
   "outputs": [],
   "source": [
    "top_repeats = df_order_prior.groupby('product_id').reordered.sum().reset_index()"
   ]
  },
  {
   "cell_type": "code",
   "execution_count": 30,
   "metadata": {
    "collapsed": true
   },
   "outputs": [],
   "source": [
    "top_repeats = top_repeats.merge(df_goods, on = 'product_id', how = 'right').sort_values('reordered', ascending = False)"
   ]
  },
  {
   "cell_type": "code",
   "execution_count": 31,
   "metadata": {
    "collapsed": false
   },
   "outputs": [
    {
     "data": {
      "text/html": [
       "<div>\n",
       "<style>\n",
       "    .dataframe thead tr:only-child th {\n",
       "        text-align: right;\n",
       "    }\n",
       "\n",
       "    .dataframe thead th {\n",
       "        text-align: left;\n",
       "    }\n",
       "\n",
       "    .dataframe tbody tr th {\n",
       "        vertical-align: top;\n",
       "    }\n",
       "</style>\n",
       "<table border=\"1\" class=\"dataframe\">\n",
       "  <thead>\n",
       "    <tr style=\"text-align: right;\">\n",
       "      <th></th>\n",
       "      <th>product_id</th>\n",
       "      <th>reordered</th>\n",
       "      <th>product_name</th>\n",
       "      <th>aisle_id</th>\n",
       "      <th>department_id</th>\n",
       "      <th>department</th>\n",
       "      <th>aisle</th>\n",
       "    </tr>\n",
       "  </thead>\n",
       "  <tbody>\n",
       "    <tr>\n",
       "      <th>24848</th>\n",
       "      <td>24852</td>\n",
       "      <td>398609.0</td>\n",
       "      <td>Banana</td>\n",
       "      <td>24</td>\n",
       "      <td>4</td>\n",
       "      <td>produce</td>\n",
       "      <td>fresh fruits</td>\n",
       "    </tr>\n",
       "    <tr>\n",
       "      <th>13172</th>\n",
       "      <td>13176</td>\n",
       "      <td>315913.0</td>\n",
       "      <td>Bag of Organic Bananas</td>\n",
       "      <td>24</td>\n",
       "      <td>4</td>\n",
       "      <td>produce</td>\n",
       "      <td>fresh fruits</td>\n",
       "    </tr>\n",
       "    <tr>\n",
       "      <th>21133</th>\n",
       "      <td>21137</td>\n",
       "      <td>205845.0</td>\n",
       "      <td>Organic Strawberries</td>\n",
       "      <td>24</td>\n",
       "      <td>4</td>\n",
       "      <td>produce</td>\n",
       "      <td>fresh fruits</td>\n",
       "    </tr>\n",
       "    <tr>\n",
       "      <th>21899</th>\n",
       "      <td>21903</td>\n",
       "      <td>186884.0</td>\n",
       "      <td>Organic Baby Spinach</td>\n",
       "      <td>123</td>\n",
       "      <td>4</td>\n",
       "      <td>produce</td>\n",
       "      <td>packaged vegetables fruits</td>\n",
       "    </tr>\n",
       "    <tr>\n",
       "      <th>47198</th>\n",
       "      <td>47209</td>\n",
       "      <td>170131.0</td>\n",
       "      <td>Organic Hass Avocado</td>\n",
       "      <td>24</td>\n",
       "      <td>4</td>\n",
       "      <td>produce</td>\n",
       "      <td>fresh fruits</td>\n",
       "    </tr>\n",
       "    <tr>\n",
       "      <th>47755</th>\n",
       "      <td>47766</td>\n",
       "      <td>134044.0</td>\n",
       "      <td>Organic Avocado</td>\n",
       "      <td>24</td>\n",
       "      <td>4</td>\n",
       "      <td>produce</td>\n",
       "      <td>fresh fruits</td>\n",
       "    </tr>\n",
       "    <tr>\n",
       "      <th>27839</th>\n",
       "      <td>27845</td>\n",
       "      <td>114510.0</td>\n",
       "      <td>Organic Whole Milk</td>\n",
       "      <td>84</td>\n",
       "      <td>16</td>\n",
       "      <td>dairy eggs</td>\n",
       "      <td>milk</td>\n",
       "    </tr>\n",
       "    <tr>\n",
       "      <th>47615</th>\n",
       "      <td>47626</td>\n",
       "      <td>106255.0</td>\n",
       "      <td>Large Lemon</td>\n",
       "      <td>24</td>\n",
       "      <td>4</td>\n",
       "      <td>produce</td>\n",
       "      <td>fresh fruits</td>\n",
       "    </tr>\n",
       "    <tr>\n",
       "      <th>27960</th>\n",
       "      <td>27966</td>\n",
       "      <td>105409.0</td>\n",
       "      <td>Organic Raspberries</td>\n",
       "      <td>123</td>\n",
       "      <td>4</td>\n",
       "      <td>produce</td>\n",
       "      <td>packaged vegetables fruits</td>\n",
       "    </tr>\n",
       "    <tr>\n",
       "      <th>16793</th>\n",
       "      <td>16797</td>\n",
       "      <td>99802.0</td>\n",
       "      <td>Strawberries</td>\n",
       "      <td>24</td>\n",
       "      <td>4</td>\n",
       "      <td>produce</td>\n",
       "      <td>fresh fruits</td>\n",
       "    </tr>\n",
       "    <tr>\n",
       "      <th>26204</th>\n",
       "      <td>26209</td>\n",
       "      <td>95768.0</td>\n",
       "      <td>Limes</td>\n",
       "      <td>24</td>\n",
       "      <td>4</td>\n",
       "      <td>produce</td>\n",
       "      <td>fresh fruits</td>\n",
       "    </tr>\n",
       "    <tr>\n",
       "      <th>22931</th>\n",
       "      <td>22935</td>\n",
       "      <td>79072.0</td>\n",
       "      <td>Organic Yellow Onion</td>\n",
       "      <td>83</td>\n",
       "      <td>4</td>\n",
       "      <td>produce</td>\n",
       "      <td>fresh vegetables</td>\n",
       "    </tr>\n",
       "    <tr>\n",
       "      <th>24960</th>\n",
       "      <td>24964</td>\n",
       "      <td>74663.0</td>\n",
       "      <td>Organic Garlic</td>\n",
       "      <td>83</td>\n",
       "      <td>4</td>\n",
       "      <td>produce</td>\n",
       "      <td>fresh vegetables</td>\n",
       "    </tr>\n",
       "    <tr>\n",
       "      <th>44998</th>\n",
       "      <td>45007</td>\n",
       "      <td>72165.0</td>\n",
       "      <td>Organic Zucchini</td>\n",
       "      <td>83</td>\n",
       "      <td>4</td>\n",
       "      <td>produce</td>\n",
       "      <td>fresh vegetables</td>\n",
       "    </tr>\n",
       "    <tr>\n",
       "      <th>49671</th>\n",
       "      <td>49683</td>\n",
       "      <td>67313.0</td>\n",
       "      <td>Cucumber Kirby</td>\n",
       "      <td>83</td>\n",
       "      <td>4</td>\n",
       "      <td>produce</td>\n",
       "      <td>fresh vegetables</td>\n",
       "    </tr>\n",
       "    <tr>\n",
       "      <th>28198</th>\n",
       "      <td>28204</td>\n",
       "      <td>63811.0</td>\n",
       "      <td>Organic Fuji Apple</td>\n",
       "      <td>24</td>\n",
       "      <td>4</td>\n",
       "      <td>produce</td>\n",
       "      <td>fresh fruits</td>\n",
       "    </tr>\n",
       "    <tr>\n",
       "      <th>39267</th>\n",
       "      <td>39275</td>\n",
       "      <td>62922.0</td>\n",
       "      <td>Organic Blueberries</td>\n",
       "      <td>123</td>\n",
       "      <td>4</td>\n",
       "      <td>produce</td>\n",
       "      <td>packaged vegetables fruits</td>\n",
       "    </tr>\n",
       "    <tr>\n",
       "      <th>8273</th>\n",
       "      <td>8277</td>\n",
       "      <td>62510.0</td>\n",
       "      <td>Apple Honeycrisp Organic</td>\n",
       "      <td>24</td>\n",
       "      <td>4</td>\n",
       "      <td>produce</td>\n",
       "      <td>fresh fruits</td>\n",
       "    </tr>\n",
       "    <tr>\n",
       "      <th>5873</th>\n",
       "      <td>5876</td>\n",
       "      <td>60536.0</td>\n",
       "      <td>Organic Lemon</td>\n",
       "      <td>24</td>\n",
       "      <td>4</td>\n",
       "      <td>produce</td>\n",
       "      <td>fresh fruits</td>\n",
       "    </tr>\n",
       "    <tr>\n",
       "      <th>49224</th>\n",
       "      <td>49235</td>\n",
       "      <td>59672.0</td>\n",
       "      <td>Organic Half &amp; Half</td>\n",
       "      <td>53</td>\n",
       "      <td>16</td>\n",
       "      <td>dairy eggs</td>\n",
       "      <td>cream</td>\n",
       "    </tr>\n",
       "  </tbody>\n",
       "</table>\n",
       "</div>"
      ],
      "text/plain": [
       "       product_id  reordered              product_name  aisle_id  \\\n",
       "24848       24852   398609.0                    Banana        24   \n",
       "13172       13176   315913.0    Bag of Organic Bananas        24   \n",
       "21133       21137   205845.0      Organic Strawberries        24   \n",
       "21899       21903   186884.0      Organic Baby Spinach       123   \n",
       "47198       47209   170131.0      Organic Hass Avocado        24   \n",
       "47755       47766   134044.0           Organic Avocado        24   \n",
       "27839       27845   114510.0        Organic Whole Milk        84   \n",
       "47615       47626   106255.0               Large Lemon        24   \n",
       "27960       27966   105409.0       Organic Raspberries       123   \n",
       "16793       16797    99802.0              Strawberries        24   \n",
       "26204       26209    95768.0                     Limes        24   \n",
       "22931       22935    79072.0      Organic Yellow Onion        83   \n",
       "24960       24964    74663.0            Organic Garlic        83   \n",
       "44998       45007    72165.0          Organic Zucchini        83   \n",
       "49671       49683    67313.0            Cucumber Kirby        83   \n",
       "28198       28204    63811.0        Organic Fuji Apple        24   \n",
       "39267       39275    62922.0       Organic Blueberries       123   \n",
       "8273         8277    62510.0  Apple Honeycrisp Organic        24   \n",
       "5873         5876    60536.0             Organic Lemon        24   \n",
       "49224       49235    59672.0       Organic Half & Half        53   \n",
       "\n",
       "       department_id  department                       aisle  \n",
       "24848              4     produce                fresh fruits  \n",
       "13172              4     produce                fresh fruits  \n",
       "21133              4     produce                fresh fruits  \n",
       "21899              4     produce  packaged vegetables fruits  \n",
       "47198              4     produce                fresh fruits  \n",
       "47755              4     produce                fresh fruits  \n",
       "27839             16  dairy eggs                        milk  \n",
       "47615              4     produce                fresh fruits  \n",
       "27960              4     produce  packaged vegetables fruits  \n",
       "16793              4     produce                fresh fruits  \n",
       "26204              4     produce                fresh fruits  \n",
       "22931              4     produce            fresh vegetables  \n",
       "24960              4     produce            fresh vegetables  \n",
       "44998              4     produce            fresh vegetables  \n",
       "49671              4     produce            fresh vegetables  \n",
       "28198              4     produce                fresh fruits  \n",
       "39267              4     produce  packaged vegetables fruits  \n",
       "8273               4     produce                fresh fruits  \n",
       "5873               4     produce                fresh fruits  \n",
       "49224             16  dairy eggs                       cream  "
      ]
     },
     "execution_count": 31,
     "metadata": {},
     "output_type": "execute_result"
    }
   ],
   "source": [
    "top_repeats.head(20)"
   ]
  },
  {
   "cell_type": "markdown",
   "metadata": {},
   "source": [
    "It looks like a lot of produce are ordered at high rates, especially bananas. "
   ]
  },
  {
   "cell_type": "code",
   "execution_count": 32,
   "metadata": {
    "collapsed": true
   },
   "outputs": [],
   "source": [
    "df_all['reordered'] = df_all['reordered'].fillna(0)"
   ]
  },
  {
   "cell_type": "code",
   "execution_count": 33,
   "metadata": {
    "collapsed": true
   },
   "outputs": [],
   "source": [
    "df_all = df_all.drop(['aisle_id', 'department_id', 'eval_set'], 1)"
   ]
  },
  {
   "cell_type": "code",
   "execution_count": 34,
   "metadata": {
    "collapsed": true
   },
   "outputs": [],
   "source": [
    "#need to calculate average cart reorder and create a user list\n",
    "\n",
    "df_carts = df_all.groupby(\"order_id\")[\"reordered\"].agg([\"size\",\"sum\"]).reset_index()"
   ]
  },
  {
   "cell_type": "code",
   "execution_count": 35,
   "metadata": {
    "collapsed": false
   },
   "outputs": [
    {
     "name": "stdout",
     "output_type": "stream",
     "text": [
      "<class 'pandas.core.frame.DataFrame'>\n",
      "RangeIndex: 3214874 entries, 0 to 3214873\n",
      "Data columns (total 3 columns):\n",
      "order_id    int64\n",
      "size        int64\n",
      "sum         int64\n",
      "dtypes: int64(3)\n",
      "memory usage: 73.6 MB\n"
     ]
    }
   ],
   "source": [
    "df_carts.info()"
   ]
  },
  {
   "cell_type": "code",
   "execution_count": 36,
   "metadata": {
    "collapsed": true
   },
   "outputs": [],
   "source": [
    "df_carts = df_carts.rename(columns={\"size\":\"cart_size\", \"sum\":\"reorders\"})\n",
    "df_carts[\"reorder_percent\"] = df_carts[\"reorders\"]/df_carts[\"cart_size\"]"
   ]
  },
  {
   "cell_type": "code",
   "execution_count": 37,
   "metadata": {
    "collapsed": false
   },
   "outputs": [
    {
     "data": {
      "text/html": [
       "<div>\n",
       "<style>\n",
       "    .dataframe thead tr:only-child th {\n",
       "        text-align: right;\n",
       "    }\n",
       "\n",
       "    .dataframe thead th {\n",
       "        text-align: left;\n",
       "    }\n",
       "\n",
       "    .dataframe tbody tr th {\n",
       "        vertical-align: top;\n",
       "    }\n",
       "</style>\n",
       "<table border=\"1\" class=\"dataframe\">\n",
       "  <thead>\n",
       "    <tr style=\"text-align: right;\">\n",
       "      <th></th>\n",
       "      <th>order_id</th>\n",
       "      <th>user_id</th>\n",
       "      <th>eval_set</th>\n",
       "      <th>order_number</th>\n",
       "      <th>order_dow</th>\n",
       "      <th>order_hour_of_day</th>\n",
       "      <th>days_since_prior_order</th>\n",
       "      <th>cart_size</th>\n",
       "      <th>reorders</th>\n",
       "      <th>reorder_percent</th>\n",
       "    </tr>\n",
       "  </thead>\n",
       "  <tbody>\n",
       "    <tr>\n",
       "      <th>0</th>\n",
       "      <td>2539329</td>\n",
       "      <td>1</td>\n",
       "      <td>0</td>\n",
       "      <td>1</td>\n",
       "      <td>2</td>\n",
       "      <td>8</td>\n",
       "      <td>NaN</td>\n",
       "      <td>5</td>\n",
       "      <td>0</td>\n",
       "      <td>0.000</td>\n",
       "    </tr>\n",
       "    <tr>\n",
       "      <th>1</th>\n",
       "      <td>2398795</td>\n",
       "      <td>1</td>\n",
       "      <td>0</td>\n",
       "      <td>2</td>\n",
       "      <td>3</td>\n",
       "      <td>7</td>\n",
       "      <td>15.0</td>\n",
       "      <td>6</td>\n",
       "      <td>3</td>\n",
       "      <td>0.500</td>\n",
       "    </tr>\n",
       "    <tr>\n",
       "      <th>2</th>\n",
       "      <td>473747</td>\n",
       "      <td>1</td>\n",
       "      <td>0</td>\n",
       "      <td>3</td>\n",
       "      <td>3</td>\n",
       "      <td>12</td>\n",
       "      <td>21.0</td>\n",
       "      <td>5</td>\n",
       "      <td>3</td>\n",
       "      <td>0.600</td>\n",
       "    </tr>\n",
       "    <tr>\n",
       "      <th>3</th>\n",
       "      <td>2254736</td>\n",
       "      <td>1</td>\n",
       "      <td>0</td>\n",
       "      <td>4</td>\n",
       "      <td>4</td>\n",
       "      <td>7</td>\n",
       "      <td>29.0</td>\n",
       "      <td>5</td>\n",
       "      <td>5</td>\n",
       "      <td>1.000</td>\n",
       "    </tr>\n",
       "    <tr>\n",
       "      <th>4</th>\n",
       "      <td>431534</td>\n",
       "      <td>1</td>\n",
       "      <td>0</td>\n",
       "      <td>5</td>\n",
       "      <td>4</td>\n",
       "      <td>15</td>\n",
       "      <td>28.0</td>\n",
       "      <td>8</td>\n",
       "      <td>5</td>\n",
       "      <td>0.625</td>\n",
       "    </tr>\n",
       "  </tbody>\n",
       "</table>\n",
       "</div>"
      ],
      "text/plain": [
       "   order_id  user_id  eval_set  order_number  order_dow  order_hour_of_day  \\\n",
       "0   2539329        1         0             1          2                  8   \n",
       "1   2398795        1         0             2          3                  7   \n",
       "2    473747        1         0             3          3                 12   \n",
       "3   2254736        1         0             4          4                  7   \n",
       "4    431534        1         0             5          4                 15   \n",
       "\n",
       "   days_since_prior_order  cart_size  reorders  reorder_percent  \n",
       "0                     NaN          5         0            0.000  \n",
       "1                    15.0          6         3            0.500  \n",
       "2                    21.0          5         3            0.600  \n",
       "3                    29.0          5         5            1.000  \n",
       "4                    28.0          8         5            0.625  "
      ]
     },
     "execution_count": 37,
     "metadata": {},
     "output_type": "execute_result"
    }
   ],
   "source": [
    "df_orders = df_orders.merge(df_carts, on = ['order_id', 'order_id'])\n",
    "\n",
    "df_orders.head()"
   ]
  },
  {
   "cell_type": "code",
   "execution_count": 38,
   "metadata": {
    "collapsed": true
   },
   "outputs": [],
   "source": [
    "df_five_orders = df_all.drop(df_all[df_all['order_number'] > 5].index)"
   ]
  },
  {
   "cell_type": "code",
   "execution_count": 39,
   "metadata": {
    "collapsed": true
   },
   "outputs": [],
   "source": [
    "df_five_cust_prod = pd.crosstab(df_five_orders['user_id'], df_five_orders['aisle'])\n"
   ]
  },
  {
   "cell_type": "code",
   "execution_count": 40,
   "metadata": {
    "collapsed": true
   },
   "outputs": [],
   "source": [
    "df_five_cust_prod= df_five_cust_prod.reset_index()"
   ]
  },
  {
   "cell_type": "code",
   "execution_count": 41,
   "metadata": {
    "collapsed": true
   },
   "outputs": [],
   "source": [
    "df_streak = df_five_orders.groupby(['user_id', 'product_id'])['reordered'].sum().reset_index()"
   ]
  },
  {
   "cell_type": "code",
   "execution_count": 42,
   "metadata": {
    "collapsed": false
   },
   "outputs": [
    {
     "data": {
      "text/html": [
       "<div>\n",
       "<style>\n",
       "    .dataframe thead tr:only-child th {\n",
       "        text-align: right;\n",
       "    }\n",
       "\n",
       "    .dataframe thead th {\n",
       "        text-align: left;\n",
       "    }\n",
       "\n",
       "    .dataframe tbody tr th {\n",
       "        vertical-align: top;\n",
       "    }\n",
       "</style>\n",
       "<table border=\"1\" class=\"dataframe\">\n",
       "  <thead>\n",
       "    <tr style=\"text-align: right;\">\n",
       "      <th></th>\n",
       "      <th>user_id</th>\n",
       "      <th>product_id</th>\n",
       "      <th>reordered</th>\n",
       "    </tr>\n",
       "  </thead>\n",
       "  <tbody>\n",
       "    <tr>\n",
       "      <th>0</th>\n",
       "      <td>1</td>\n",
       "      <td>196</td>\n",
       "      <td>4</td>\n",
       "    </tr>\n",
       "    <tr>\n",
       "      <th>1</th>\n",
       "      <td>1</td>\n",
       "      <td>10258</td>\n",
       "      <td>3</td>\n",
       "    </tr>\n",
       "    <tr>\n",
       "      <th>2</th>\n",
       "      <td>1</td>\n",
       "      <td>10326</td>\n",
       "      <td>0</td>\n",
       "    </tr>\n",
       "    <tr>\n",
       "      <th>3</th>\n",
       "      <td>1</td>\n",
       "      <td>12427</td>\n",
       "      <td>4</td>\n",
       "    </tr>\n",
       "    <tr>\n",
       "      <th>4</th>\n",
       "      <td>1</td>\n",
       "      <td>13032</td>\n",
       "      <td>0</td>\n",
       "    </tr>\n",
       "    <tr>\n",
       "      <th>5</th>\n",
       "      <td>1</td>\n",
       "      <td>13176</td>\n",
       "      <td>1</td>\n",
       "    </tr>\n",
       "    <tr>\n",
       "      <th>6</th>\n",
       "      <td>1</td>\n",
       "      <td>14084</td>\n",
       "      <td>0</td>\n",
       "    </tr>\n",
       "    <tr>\n",
       "      <th>7</th>\n",
       "      <td>1</td>\n",
       "      <td>17122</td>\n",
       "      <td>0</td>\n",
       "    </tr>\n",
       "    <tr>\n",
       "      <th>8</th>\n",
       "      <td>1</td>\n",
       "      <td>25133</td>\n",
       "      <td>2</td>\n",
       "    </tr>\n",
       "    <tr>\n",
       "      <th>9</th>\n",
       "      <td>1</td>\n",
       "      <td>26088</td>\n",
       "      <td>1</td>\n",
       "    </tr>\n",
       "    <tr>\n",
       "      <th>10</th>\n",
       "      <td>1</td>\n",
       "      <td>26405</td>\n",
       "      <td>1</td>\n",
       "    </tr>\n",
       "    <tr>\n",
       "      <th>11</th>\n",
       "      <td>1</td>\n",
       "      <td>30450</td>\n",
       "      <td>0</td>\n",
       "    </tr>\n",
       "    <tr>\n",
       "      <th>12</th>\n",
       "      <td>1</td>\n",
       "      <td>41787</td>\n",
       "      <td>0</td>\n",
       "    </tr>\n",
       "  </tbody>\n",
       "</table>\n",
       "</div>"
      ],
      "text/plain": [
       "    user_id  product_id  reordered\n",
       "0         1         196          4\n",
       "1         1       10258          3\n",
       "2         1       10326          0\n",
       "3         1       12427          4\n",
       "4         1       13032          0\n",
       "5         1       13176          1\n",
       "6         1       14084          0\n",
       "7         1       17122          0\n",
       "8         1       25133          2\n",
       "9         1       26088          1\n",
       "10        1       26405          1\n",
       "11        1       30450          0\n",
       "12        1       41787          0"
      ]
     },
     "execution_count": 42,
     "metadata": {},
     "output_type": "execute_result"
    }
   ],
   "source": [
    "df_streak[df_streak['user_id'] ==1]"
   ]
  },
  {
   "cell_type": "code",
   "execution_count": 43,
   "metadata": {
    "collapsed": true
   },
   "outputs": [],
   "source": [
    "df_streak['reordered'] = df_streak['reordered'].apply(lambda x: adjust_streak(x))"
   ]
  },
  {
   "cell_type": "code",
   "execution_count": 45,
   "metadata": {
    "collapsed": true
   },
   "outputs": [],
   "source": [
    "df_users_train = df_five_orders.drop(['product_id', 'add_to_cart_order', \n",
    "                               'reordered', 'product_name', 'department', 'aisle'], 1)\n",
    "df_users_train = df_users_train.set_index('order_id')\n",
    "df_users_train = df_users_train.drop_duplicates().sort_values('user_id').reset_index()\n",
    "df_users_train = df_users_train.drop(['order_id'], 1)"
   ]
  },
  {
   "cell_type": "markdown",
   "metadata": {},
   "source": [
    "Let's create average and standard deviate data based on time behaviors"
   ]
  },
  {
   "cell_type": "code",
   "execution_count": 46,
   "metadata": {
    "collapsed": false
   },
   "outputs": [
    {
     "data": {
      "text/html": [
       "<div>\n",
       "<style>\n",
       "    .dataframe thead tr:only-child th {\n",
       "        text-align: right;\n",
       "    }\n",
       "\n",
       "    .dataframe thead th {\n",
       "        text-align: left;\n",
       "    }\n",
       "\n",
       "    .dataframe tbody tr th {\n",
       "        vertical-align: top;\n",
       "    }\n",
       "</style>\n",
       "<table border=\"1\" class=\"dataframe\">\n",
       "  <thead>\n",
       "    <tr style=\"text-align: right;\">\n",
       "      <th></th>\n",
       "      <th>user_id</th>\n",
       "      <th>dow_mean</th>\n",
       "      <th>dow_std</th>\n",
       "      <th>hour_mean</th>\n",
       "      <th>hour_std</th>\n",
       "      <th>order_gap_mean</th>\n",
       "      <th>order_gap_std</th>\n",
       "    </tr>\n",
       "  </thead>\n",
       "  <tbody>\n",
       "    <tr>\n",
       "      <th>0</th>\n",
       "      <td>1</td>\n",
       "      <td>3.2</td>\n",
       "      <td>0.83666</td>\n",
       "      <td>9.8</td>\n",
       "      <td>3.563706</td>\n",
       "      <td>23.25</td>\n",
       "      <td>6.551081</td>\n",
       "    </tr>\n",
       "    <tr>\n",
       "      <th>1</th>\n",
       "      <td>1</td>\n",
       "      <td>3.2</td>\n",
       "      <td>0.83666</td>\n",
       "      <td>9.8</td>\n",
       "      <td>3.563706</td>\n",
       "      <td>23.25</td>\n",
       "      <td>6.551081</td>\n",
       "    </tr>\n",
       "    <tr>\n",
       "      <th>2</th>\n",
       "      <td>1</td>\n",
       "      <td>3.2</td>\n",
       "      <td>0.83666</td>\n",
       "      <td>9.8</td>\n",
       "      <td>3.563706</td>\n",
       "      <td>23.25</td>\n",
       "      <td>6.551081</td>\n",
       "    </tr>\n",
       "    <tr>\n",
       "      <th>3</th>\n",
       "      <td>1</td>\n",
       "      <td>3.2</td>\n",
       "      <td>0.83666</td>\n",
       "      <td>9.8</td>\n",
       "      <td>3.563706</td>\n",
       "      <td>23.25</td>\n",
       "      <td>6.551081</td>\n",
       "    </tr>\n",
       "    <tr>\n",
       "      <th>4</th>\n",
       "      <td>1</td>\n",
       "      <td>3.2</td>\n",
       "      <td>0.83666</td>\n",
       "      <td>9.8</td>\n",
       "      <td>3.563706</td>\n",
       "      <td>23.25</td>\n",
       "      <td>6.551081</td>\n",
       "    </tr>\n",
       "  </tbody>\n",
       "</table>\n",
       "</div>"
      ],
      "text/plain": [
       "   user_id  dow_mean  dow_std  hour_mean  hour_std  order_gap_mean  \\\n",
       "0        1       3.2  0.83666        9.8  3.563706           23.25   \n",
       "1        1       3.2  0.83666        9.8  3.563706           23.25   \n",
       "2        1       3.2  0.83666        9.8  3.563706           23.25   \n",
       "3        1       3.2  0.83666        9.8  3.563706           23.25   \n",
       "4        1       3.2  0.83666        9.8  3.563706           23.25   \n",
       "\n",
       "   order_gap_std  \n",
       "0       6.551081  \n",
       "1       6.551081  \n",
       "2       6.551081  \n",
       "3       6.551081  \n",
       "4       6.551081  "
      ]
     },
     "execution_count": 46,
     "metadata": {},
     "output_type": "execute_result"
    }
   ],
   "source": [
    "weekdays = df_users_train.groupby('user_id')['order_dow'].agg(['mean', 'std']).reset_index()\n",
    "hours = df_users_train.groupby('user_id')['order_hour_of_day'].agg(['mean', 'std']).reset_index()\n",
    "order_gap = df_users_train.groupby('user_id')['days_since_prior_order'].agg(['mean', 'std']).reset_index()\n",
    "weekdays = weekdays.rename(columns={\"mean\":\"dow_mean\", \"std\":\"dow_std\"})\n",
    "hours = hours.rename(columns={\"mean\":\"hour_mean\", \"std\":\"hour_std\"})\n",
    "order_gap = order_gap.rename(columns={\"mean\":\"order_gap_mean\", \"std\":\"order_gap_std\"})\n",
    "\n",
    "df_users_train = df_users_train.drop(['order_number', 'order_dow', 'order_hour_of_day', 'days_since_prior_order'], 1)\n",
    "df_users_train = df_users_train.merge(weekdays, on = ['user_id', 'user_id'])\n",
    "df_users_train = df_users_train.merge(hours, on = ['user_id', 'user_id'])\n",
    "df_users_train = df_users_train.merge(order_gap, on = ['user_id', 'user_id'])\n",
    "\n",
    "df_users_train.head()"
   ]
  },
  {
   "cell_type": "code",
   "execution_count": 47,
   "metadata": {
    "collapsed": true
   },
   "outputs": [],
   "source": [
    "df_users_train = df_users_train.drop_duplicates()\n"
   ]
  },
  {
   "cell_type": "markdown",
   "metadata": {},
   "source": [
    "Let's look at order data now and create features around that"
   ]
  },
  {
   "cell_type": "code",
   "execution_count": 48,
   "metadata": {
    "collapsed": true
   },
   "outputs": [],
   "source": [
    "orders = df_five_orders.groupby('user_id')['order_number'].max().reset_index()\n",
    "reorders = df_five_orders.groupby('user_id')['reordered'].agg(['size','sum']).reset_index()\n",
    "reorders = reorders.rename(columns={\"size\":\"total_products\", \"sum\":\"total_reorders\"})"
   ]
  },
  {
   "cell_type": "code",
   "execution_count": 49,
   "metadata": {
    "collapsed": false
   },
   "outputs": [
    {
     "data": {
      "text/html": [
       "<div>\n",
       "<style>\n",
       "    .dataframe thead tr:only-child th {\n",
       "        text-align: right;\n",
       "    }\n",
       "\n",
       "    .dataframe thead th {\n",
       "        text-align: left;\n",
       "    }\n",
       "\n",
       "    .dataframe tbody tr th {\n",
       "        vertical-align: top;\n",
       "    }\n",
       "</style>\n",
       "<table border=\"1\" class=\"dataframe\">\n",
       "  <thead>\n",
       "    <tr style=\"text-align: right;\">\n",
       "      <th></th>\n",
       "      <th>user_id</th>\n",
       "      <th>dow_mean</th>\n",
       "      <th>dow_std</th>\n",
       "      <th>hour_mean</th>\n",
       "      <th>hour_std</th>\n",
       "      <th>order_gap_mean</th>\n",
       "      <th>order_gap_std</th>\n",
       "      <th>total_products</th>\n",
       "      <th>total_reorders</th>\n",
       "      <th>order_number</th>\n",
       "      <th>ttl_reorder_rate</th>\n",
       "      <th>avg_cart</th>\n",
       "      <th>avg_reorders</th>\n",
       "    </tr>\n",
       "  </thead>\n",
       "  <tbody>\n",
       "    <tr>\n",
       "      <th>0</th>\n",
       "      <td>1</td>\n",
       "      <td>3.20</td>\n",
       "      <td>0.836660</td>\n",
       "      <td>9.8</td>\n",
       "      <td>3.563706</td>\n",
       "      <td>23.250000</td>\n",
       "      <td>6.551081</td>\n",
       "      <td>29</td>\n",
       "      <td>16</td>\n",
       "      <td>5</td>\n",
       "      <td>0.551724</td>\n",
       "      <td>5.80</td>\n",
       "      <td>3.2</td>\n",
       "    </tr>\n",
       "    <tr>\n",
       "      <th>1</th>\n",
       "      <td>2</td>\n",
       "      <td>2.60</td>\n",
       "      <td>1.516575</td>\n",
       "      <td>10.4</td>\n",
       "      <td>0.547723</td>\n",
       "      <td>7.250000</td>\n",
       "      <td>2.986079</td>\n",
       "      <td>50</td>\n",
       "      <td>6</td>\n",
       "      <td>5</td>\n",
       "      <td>0.120000</td>\n",
       "      <td>10.00</td>\n",
       "      <td>1.2</td>\n",
       "    </tr>\n",
       "    <tr>\n",
       "      <th>2</th>\n",
       "      <td>3</td>\n",
       "      <td>1.80</td>\n",
       "      <td>1.303840</td>\n",
       "      <td>16.8</td>\n",
       "      <td>1.923538</td>\n",
       "      <td>15.500000</td>\n",
       "      <td>5.916080</td>\n",
       "      <td>41</td>\n",
       "      <td>14</td>\n",
       "      <td>5</td>\n",
       "      <td>0.341463</td>\n",
       "      <td>8.20</td>\n",
       "      <td>2.8</td>\n",
       "    </tr>\n",
       "    <tr>\n",
       "      <th>3</th>\n",
       "      <td>4</td>\n",
       "      <td>4.80</td>\n",
       "      <td>0.836660</td>\n",
       "      <td>12.6</td>\n",
       "      <td>1.673320</td>\n",
       "      <td>13.750000</td>\n",
       "      <td>9.500000</td>\n",
       "      <td>18</td>\n",
       "      <td>1</td>\n",
       "      <td>5</td>\n",
       "      <td>0.055556</td>\n",
       "      <td>3.60</td>\n",
       "      <td>0.2</td>\n",
       "    </tr>\n",
       "    <tr>\n",
       "      <th>4</th>\n",
       "      <td>5</td>\n",
       "      <td>1.75</td>\n",
       "      <td>1.500000</td>\n",
       "      <td>16.0</td>\n",
       "      <td>2.828427</td>\n",
       "      <td>13.333333</td>\n",
       "      <td>4.932883</td>\n",
       "      <td>37</td>\n",
       "      <td>14</td>\n",
       "      <td>4</td>\n",
       "      <td>0.378378</td>\n",
       "      <td>9.25</td>\n",
       "      <td>3.5</td>\n",
       "    </tr>\n",
       "  </tbody>\n",
       "</table>\n",
       "</div>"
      ],
      "text/plain": [
       "   user_id  dow_mean   dow_std  hour_mean  hour_std  order_gap_mean  \\\n",
       "0        1      3.20  0.836660        9.8  3.563706       23.250000   \n",
       "1        2      2.60  1.516575       10.4  0.547723        7.250000   \n",
       "2        3      1.80  1.303840       16.8  1.923538       15.500000   \n",
       "3        4      4.80  0.836660       12.6  1.673320       13.750000   \n",
       "4        5      1.75  1.500000       16.0  2.828427       13.333333   \n",
       "\n",
       "   order_gap_std  total_products  total_reorders  order_number  \\\n",
       "0       6.551081              29              16             5   \n",
       "1       2.986079              50               6             5   \n",
       "2       5.916080              41              14             5   \n",
       "3       9.500000              18               1             5   \n",
       "4       4.932883              37              14             4   \n",
       "\n",
       "   ttl_reorder_rate  avg_cart  avg_reorders  \n",
       "0          0.551724      5.80           3.2  \n",
       "1          0.120000     10.00           1.2  \n",
       "2          0.341463      8.20           2.8  \n",
       "3          0.055556      3.60           0.2  \n",
       "4          0.378378      9.25           3.5  "
      ]
     },
     "execution_count": 49,
     "metadata": {},
     "output_type": "execute_result"
    }
   ],
   "source": [
    "reorders = reorders.merge (orders, on = ['user_id', 'user_id'])\n",
    "reorders['ttl_reorder_rate'] = reorders['total_reorders']/reorders ['total_products']\n",
    "reorders['avg_cart'] = reorders['total_products']/reorders ['order_number']\n",
    "reorders['avg_reorders'] = reorders['total_reorders']/reorders ['order_number']\n",
    "\n",
    "df_users_train = df_users_train.merge(reorders, on = ['user_id', 'user_id'])\n",
    "df_users_train.head()\n",
    "\n"
   ]
  },
  {
   "cell_type": "markdown",
   "metadata": {},
   "source": [
    "Let's add back in the aisle data "
   ]
  },
  {
   "cell_type": "code",
   "execution_count": 50,
   "metadata": {
    "collapsed": true
   },
   "outputs": [],
   "source": [
    "df_users_train = df_users_train.merge(df_five_cust_prod, on = ['user_id', 'user_id'])"
   ]
  },
  {
   "cell_type": "markdown",
   "metadata": {},
   "source": [
    "Let's add in the streak count data"
   ]
  },
  {
   "cell_type": "code",
   "execution_count": 51,
   "metadata": {
    "collapsed": false
   },
   "outputs": [
    {
     "data": {
      "text/html": [
       "<div>\n",
       "<style>\n",
       "    .dataframe thead tr:only-child th {\n",
       "        text-align: right;\n",
       "    }\n",
       "\n",
       "    .dataframe thead th {\n",
       "        text-align: left;\n",
       "    }\n",
       "\n",
       "    .dataframe tbody tr th {\n",
       "        vertical-align: top;\n",
       "    }\n",
       "</style>\n",
       "<table border=\"1\" class=\"dataframe\">\n",
       "  <thead>\n",
       "    <tr style=\"text-align: right;\">\n",
       "      <th></th>\n",
       "      <th>user_id</th>\n",
       "      <th>dow_mean</th>\n",
       "      <th>dow_std</th>\n",
       "      <th>hour_mean</th>\n",
       "      <th>hour_std</th>\n",
       "      <th>order_gap_mean</th>\n",
       "      <th>order_gap_std</th>\n",
       "      <th>total_products</th>\n",
       "      <th>total_reorders</th>\n",
       "      <th>order_number</th>\n",
       "      <th>...</th>\n",
       "      <th>trash bags liners</th>\n",
       "      <th>vitamins supplements</th>\n",
       "      <th>water seltzer sparkling water</th>\n",
       "      <th>white wines</th>\n",
       "      <th>yogurt</th>\n",
       "      <th>5_streak</th>\n",
       "      <th>4_streak</th>\n",
       "      <th>3_streak</th>\n",
       "      <th>2_streak</th>\n",
       "      <th>0_streak</th>\n",
       "    </tr>\n",
       "  </thead>\n",
       "  <tbody>\n",
       "    <tr>\n",
       "      <th>0</th>\n",
       "      <td>1</td>\n",
       "      <td>3.20</td>\n",
       "      <td>0.836660</td>\n",
       "      <td>9.8</td>\n",
       "      <td>3.563706</td>\n",
       "      <td>23.250000</td>\n",
       "      <td>6.551081</td>\n",
       "      <td>29</td>\n",
       "      <td>16</td>\n",
       "      <td>5</td>\n",
       "      <td>...</td>\n",
       "      <td>0</td>\n",
       "      <td>0</td>\n",
       "      <td>0</td>\n",
       "      <td>0</td>\n",
       "      <td>0</td>\n",
       "      <td>2.0</td>\n",
       "      <td>1.0</td>\n",
       "      <td>1.0</td>\n",
       "      <td>3.0</td>\n",
       "      <td>6.0</td>\n",
       "    </tr>\n",
       "    <tr>\n",
       "      <th>1</th>\n",
       "      <td>2</td>\n",
       "      <td>2.60</td>\n",
       "      <td>1.516575</td>\n",
       "      <td>10.4</td>\n",
       "      <td>0.547723</td>\n",
       "      <td>7.250000</td>\n",
       "      <td>2.986079</td>\n",
       "      <td>50</td>\n",
       "      <td>6</td>\n",
       "      <td>5</td>\n",
       "      <td>...</td>\n",
       "      <td>0</td>\n",
       "      <td>0</td>\n",
       "      <td>0</td>\n",
       "      <td>0</td>\n",
       "      <td>3</td>\n",
       "      <td>NaN</td>\n",
       "      <td>1.0</td>\n",
       "      <td>1.0</td>\n",
       "      <td>1.0</td>\n",
       "      <td>41.0</td>\n",
       "    </tr>\n",
       "    <tr>\n",
       "      <th>2</th>\n",
       "      <td>3</td>\n",
       "      <td>1.80</td>\n",
       "      <td>1.303840</td>\n",
       "      <td>16.8</td>\n",
       "      <td>1.923538</td>\n",
       "      <td>15.500000</td>\n",
       "      <td>5.916080</td>\n",
       "      <td>41</td>\n",
       "      <td>14</td>\n",
       "      <td>5</td>\n",
       "      <td>...</td>\n",
       "      <td>0</td>\n",
       "      <td>0</td>\n",
       "      <td>1</td>\n",
       "      <td>0</td>\n",
       "      <td>0</td>\n",
       "      <td>NaN</td>\n",
       "      <td>1.0</td>\n",
       "      <td>4.0</td>\n",
       "      <td>3.0</td>\n",
       "      <td>19.0</td>\n",
       "    </tr>\n",
       "    <tr>\n",
       "      <th>3</th>\n",
       "      <td>4</td>\n",
       "      <td>4.80</td>\n",
       "      <td>0.836660</td>\n",
       "      <td>12.6</td>\n",
       "      <td>1.673320</td>\n",
       "      <td>13.750000</td>\n",
       "      <td>9.500000</td>\n",
       "      <td>18</td>\n",
       "      <td>1</td>\n",
       "      <td>5</td>\n",
       "      <td>...</td>\n",
       "      <td>0</td>\n",
       "      <td>0</td>\n",
       "      <td>1</td>\n",
       "      <td>0</td>\n",
       "      <td>0</td>\n",
       "      <td>NaN</td>\n",
       "      <td>NaN</td>\n",
       "      <td>NaN</td>\n",
       "      <td>1.0</td>\n",
       "      <td>16.0</td>\n",
       "    </tr>\n",
       "    <tr>\n",
       "      <th>4</th>\n",
       "      <td>5</td>\n",
       "      <td>1.75</td>\n",
       "      <td>1.500000</td>\n",
       "      <td>16.0</td>\n",
       "      <td>2.828427</td>\n",
       "      <td>13.333333</td>\n",
       "      <td>4.932883</td>\n",
       "      <td>37</td>\n",
       "      <td>14</td>\n",
       "      <td>4</td>\n",
       "      <td>...</td>\n",
       "      <td>0</td>\n",
       "      <td>0</td>\n",
       "      <td>0</td>\n",
       "      <td>0</td>\n",
       "      <td>3</td>\n",
       "      <td>NaN</td>\n",
       "      <td>2.0</td>\n",
       "      <td>2.0</td>\n",
       "      <td>4.0</td>\n",
       "      <td>15.0</td>\n",
       "    </tr>\n",
       "  </tbody>\n",
       "</table>\n",
       "<p>5 rows × 152 columns</p>\n",
       "</div>"
      ],
      "text/plain": [
       "   user_id  dow_mean   dow_std  hour_mean  hour_std  order_gap_mean  \\\n",
       "0        1      3.20  0.836660        9.8  3.563706       23.250000   \n",
       "1        2      2.60  1.516575       10.4  0.547723        7.250000   \n",
       "2        3      1.80  1.303840       16.8  1.923538       15.500000   \n",
       "3        4      4.80  0.836660       12.6  1.673320       13.750000   \n",
       "4        5      1.75  1.500000       16.0  2.828427       13.333333   \n",
       "\n",
       "   order_gap_std  total_products  total_reorders  order_number    ...     \\\n",
       "0       6.551081              29              16             5    ...      \n",
       "1       2.986079              50               6             5    ...      \n",
       "2       5.916080              41              14             5    ...      \n",
       "3       9.500000              18               1             5    ...      \n",
       "4       4.932883              37              14             4    ...      \n",
       "\n",
       "   trash bags liners  vitamins supplements  water seltzer sparkling water  \\\n",
       "0                  0                     0                              0   \n",
       "1                  0                     0                              0   \n",
       "2                  0                     0                              1   \n",
       "3                  0                     0                              1   \n",
       "4                  0                     0                              0   \n",
       "\n",
       "   white wines  yogurt  5_streak  4_streak  3_streak  2_streak  0_streak  \n",
       "0            0       0       2.0       1.0       1.0       3.0       6.0  \n",
       "1            0       3       NaN       1.0       1.0       1.0      41.0  \n",
       "2            0       0       NaN       1.0       4.0       3.0      19.0  \n",
       "3            0       0       NaN       NaN       NaN       1.0      16.0  \n",
       "4            0       3       NaN       2.0       2.0       4.0      15.0  \n",
       "\n",
       "[5 rows x 152 columns]"
      ]
     },
     "execution_count": 51,
     "metadata": {},
     "output_type": "execute_result"
    }
   ],
   "source": [
    "df_users_train = df_users_train.merge(get_streak_count(df_streak, 'reordered', 5), \n",
    "                                       on = ['user_id', 'user_id'], how = 'left')\n",
    "df_users_train = df_users_train.merge(get_streak_count(df_streak, 'reordered', 4), \n",
    "                                       on = ['user_id', 'user_id'], how = 'left')\n",
    "df_users_train = df_users_train.merge(get_streak_count(df_streak, 'reordered', 3), \n",
    "                                        on = ['user_id', 'user_id'], how = 'left')\n",
    "df_users_train = df_users_train.merge(get_streak_count(df_streak, 'reordered', 2),\n",
    "                                        on = ['user_id', 'user_id'], how = 'left')\n",
    "df_users_train = df_users_train.merge(get_streak_count(df_streak, 'reordered', 0), \n",
    "                                         on = ['user_id', 'user_id'], how = 'left')\n",
    "\n",
    "df_users_train.head()"
   ]
  },
  {
   "cell_type": "code",
   "execution_count": 52,
   "metadata": {
    "collapsed": true
   },
   "outputs": [],
   "source": [
    "df_users_train['class'] = df_users_train['ttl_reorder_rate'].apply(lambda x: convert_reorder_class(x))"
   ]
  },
  {
   "cell_type": "code",
   "execution_count": 53,
   "metadata": {
    "collapsed": true
   },
   "outputs": [],
   "source": [
    "df_users_train.fillna(0, inplace = True)"
   ]
  },
  {
   "cell_type": "code",
   "execution_count": 54,
   "metadata": {
    "collapsed": true
   },
   "outputs": [],
   "source": [
    "df_users_train['5_reorder_ratio'] = df_users_train['5_streak']*5/df_users_train['total_products']\n",
    "df_users_train['4_reorder_ratio'] = df_users_train['4_streak']*4/df_users_train['total_products']\n",
    "df_users_train['3_reorder_ratio'] = df_users_train['3_streak']*3/df_users_train['total_products']\n",
    "df_users_train['2_reorder_ratio'] = df_users_train['4_streak']*2/df_users_train['total_products']\n",
    "df_users_train['0_reorder_ratio'] = df_users_train['0_streak']/df_users_train['total_products']"
   ]
  },
  {
   "cell_type": "code",
   "execution_count": 55,
   "metadata": {
    "collapsed": false
   },
   "outputs": [
    {
     "data": {
      "text/html": [
       "<div>\n",
       "<style>\n",
       "    .dataframe thead tr:only-child th {\n",
       "        text-align: right;\n",
       "    }\n",
       "\n",
       "    .dataframe thead th {\n",
       "        text-align: left;\n",
       "    }\n",
       "\n",
       "    .dataframe tbody tr th {\n",
       "        vertical-align: top;\n",
       "    }\n",
       "</style>\n",
       "<table border=\"1\" class=\"dataframe\">\n",
       "  <thead>\n",
       "    <tr style=\"text-align: right;\">\n",
       "      <th></th>\n",
       "      <th>user_id</th>\n",
       "      <th>dow_mean</th>\n",
       "      <th>dow_std</th>\n",
       "      <th>hour_mean</th>\n",
       "      <th>hour_std</th>\n",
       "      <th>order_gap_mean</th>\n",
       "      <th>order_gap_std</th>\n",
       "      <th>total_products</th>\n",
       "      <th>total_reorders</th>\n",
       "      <th>order_number</th>\n",
       "      <th>...</th>\n",
       "      <th>2_streak</th>\n",
       "      <th>0_streak</th>\n",
       "      <th>reorder_class</th>\n",
       "      <th>5_reorder_ratio</th>\n",
       "      <th>4_reorder_ratio</th>\n",
       "      <th>3_reorder_ratio</th>\n",
       "      <th>2_reorder_ratio</th>\n",
       "      <th>0_reorder_ratio</th>\n",
       "      <th>cart_size_class</th>\n",
       "      <th>current_class</th>\n",
       "    </tr>\n",
       "  </thead>\n",
       "  <tbody>\n",
       "    <tr>\n",
       "      <th>0</th>\n",
       "      <td>1</td>\n",
       "      <td>3.20</td>\n",
       "      <td>0.836660</td>\n",
       "      <td>9.8</td>\n",
       "      <td>3.563706</td>\n",
       "      <td>23.250000</td>\n",
       "      <td>6.551081</td>\n",
       "      <td>29</td>\n",
       "      <td>16</td>\n",
       "      <td>5</td>\n",
       "      <td>...</td>\n",
       "      <td>3.0</td>\n",
       "      <td>6.0</td>\n",
       "      <td>2</td>\n",
       "      <td>0.344828</td>\n",
       "      <td>0.137931</td>\n",
       "      <td>0.103448</td>\n",
       "      <td>0.068966</td>\n",
       "      <td>0.206897</td>\n",
       "      <td>3</td>\n",
       "      <td>6</td>\n",
       "    </tr>\n",
       "    <tr>\n",
       "      <th>1</th>\n",
       "      <td>2</td>\n",
       "      <td>2.60</td>\n",
       "      <td>1.516575</td>\n",
       "      <td>10.4</td>\n",
       "      <td>0.547723</td>\n",
       "      <td>7.250000</td>\n",
       "      <td>2.986079</td>\n",
       "      <td>50</td>\n",
       "      <td>6</td>\n",
       "      <td>5</td>\n",
       "      <td>...</td>\n",
       "      <td>1.0</td>\n",
       "      <td>41.0</td>\n",
       "      <td>1</td>\n",
       "      <td>0.000000</td>\n",
       "      <td>0.080000</td>\n",
       "      <td>0.060000</td>\n",
       "      <td>0.040000</td>\n",
       "      <td>0.820000</td>\n",
       "      <td>4</td>\n",
       "      <td>4</td>\n",
       "    </tr>\n",
       "    <tr>\n",
       "      <th>2</th>\n",
       "      <td>3</td>\n",
       "      <td>1.80</td>\n",
       "      <td>1.303840</td>\n",
       "      <td>16.8</td>\n",
       "      <td>1.923538</td>\n",
       "      <td>15.500000</td>\n",
       "      <td>5.916080</td>\n",
       "      <td>41</td>\n",
       "      <td>14</td>\n",
       "      <td>5</td>\n",
       "      <td>...</td>\n",
       "      <td>3.0</td>\n",
       "      <td>19.0</td>\n",
       "      <td>1</td>\n",
       "      <td>0.000000</td>\n",
       "      <td>0.097561</td>\n",
       "      <td>0.292683</td>\n",
       "      <td>0.048780</td>\n",
       "      <td>0.463415</td>\n",
       "      <td>4</td>\n",
       "      <td>4</td>\n",
       "    </tr>\n",
       "    <tr>\n",
       "      <th>3</th>\n",
       "      <td>4</td>\n",
       "      <td>4.80</td>\n",
       "      <td>0.836660</td>\n",
       "      <td>12.6</td>\n",
       "      <td>1.673320</td>\n",
       "      <td>13.750000</td>\n",
       "      <td>9.500000</td>\n",
       "      <td>18</td>\n",
       "      <td>1</td>\n",
       "      <td>5</td>\n",
       "      <td>...</td>\n",
       "      <td>1.0</td>\n",
       "      <td>16.0</td>\n",
       "      <td>1</td>\n",
       "      <td>0.000000</td>\n",
       "      <td>0.000000</td>\n",
       "      <td>0.000000</td>\n",
       "      <td>0.000000</td>\n",
       "      <td>0.888889</td>\n",
       "      <td>3</td>\n",
       "      <td>3</td>\n",
       "    </tr>\n",
       "    <tr>\n",
       "      <th>4</th>\n",
       "      <td>5</td>\n",
       "      <td>1.75</td>\n",
       "      <td>1.500000</td>\n",
       "      <td>16.0</td>\n",
       "      <td>2.828427</td>\n",
       "      <td>13.333333</td>\n",
       "      <td>4.932883</td>\n",
       "      <td>37</td>\n",
       "      <td>14</td>\n",
       "      <td>4</td>\n",
       "      <td>...</td>\n",
       "      <td>4.0</td>\n",
       "      <td>15.0</td>\n",
       "      <td>1</td>\n",
       "      <td>0.000000</td>\n",
       "      <td>0.216216</td>\n",
       "      <td>0.162162</td>\n",
       "      <td>0.108108</td>\n",
       "      <td>0.405405</td>\n",
       "      <td>4</td>\n",
       "      <td>4</td>\n",
       "    </tr>\n",
       "  </tbody>\n",
       "</table>\n",
       "<p>5 rows × 160 columns</p>\n",
       "</div>"
      ],
      "text/plain": [
       "   user_id  dow_mean   dow_std  hour_mean  hour_std  order_gap_mean  \\\n",
       "0        1      3.20  0.836660        9.8  3.563706       23.250000   \n",
       "1        2      2.60  1.516575       10.4  0.547723        7.250000   \n",
       "2        3      1.80  1.303840       16.8  1.923538       15.500000   \n",
       "3        4      4.80  0.836660       12.6  1.673320       13.750000   \n",
       "4        5      1.75  1.500000       16.0  2.828427       13.333333   \n",
       "\n",
       "   order_gap_std  total_products  total_reorders  order_number      ...        \\\n",
       "0       6.551081              29              16             5      ...         \n",
       "1       2.986079              50               6             5      ...         \n",
       "2       5.916080              41              14             5      ...         \n",
       "3       9.500000              18               1             5      ...         \n",
       "4       4.932883              37              14             4      ...         \n",
       "\n",
       "   2_streak  0_streak  reorder_class  5_reorder_ratio  4_reorder_ratio  \\\n",
       "0       3.0       6.0              2         0.344828         0.137931   \n",
       "1       1.0      41.0              1         0.000000         0.080000   \n",
       "2       3.0      19.0              1         0.000000         0.097561   \n",
       "3       1.0      16.0              1         0.000000         0.000000   \n",
       "4       4.0      15.0              1         0.000000         0.216216   \n",
       "\n",
       "   3_reorder_ratio  2_reorder_ratio  0_reorder_ratio  cart_size_class  \\\n",
       "0         0.103448         0.068966         0.206897                3   \n",
       "1         0.060000         0.040000         0.820000                4   \n",
       "2         0.292683         0.048780         0.463415                4   \n",
       "3         0.000000         0.000000         0.888889                3   \n",
       "4         0.162162         0.108108         0.405405                4   \n",
       "\n",
       "   current_class  \n",
       "0              6  \n",
       "1              4  \n",
       "2              4  \n",
       "3              3  \n",
       "4              4  \n",
       "\n",
       "[5 rows x 160 columns]"
      ]
     },
     "execution_count": 55,
     "metadata": {},
     "output_type": "execute_result"
    }
   ],
   "source": [
    "df_users_train['cart_size_class'] = df_users_train['avg_cart'].apply(lambda x: convert_class_cart(x))\n",
    "df_users_train = df_users_train.rename(columns = {'class': 'reorder_class'})\n",
    "df_users_train['current_class'] = df_users_train['cart_size_class']  * df_users_train['reorder_class']\n",
    "\n",
    "df_users_train.head()"
   ]
  },
  {
   "cell_type": "code",
   "execution_count": 56,
   "metadata": {
    "collapsed": true
   },
   "outputs": [],
   "source": [
    "df_users_train = df_users_train.drop('order_number', 1)"
   ]
  },
  {
   "cell_type": "code",
   "execution_count": 57,
   "metadata": {
    "collapsed": true
   },
   "outputs": [],
   "source": [
    "df_users_train['log_avg_cart'] = df_users_train['avg_cart'].apply(lambda x: np.log(x))\n",
    "df_users_train['log_total_products'] = df_users_train['total_products'].apply(lambda x: np.log(x))"
   ]
  },
  {
   "cell_type": "markdown",
   "metadata": {},
   "source": [
    "Let's calculate the dependent variable, which is future reorder behaviors"
   ]
  },
  {
   "cell_type": "code",
   "execution_count": 58,
   "metadata": {
    "collapsed": true
   },
   "outputs": [],
   "source": [
    "df_six_ten = df_all[df_all['order_number'] >=6]\n",
    "df_six_ten = df_six_ten.drop(df_six_ten[df_six_ten['order_number'] >10].index)\n"
   ]
  },
  {
   "cell_type": "code",
   "execution_count": 59,
   "metadata": {
    "collapsed": false
   },
   "outputs": [
    {
     "data": {
      "text/html": [
       "<div>\n",
       "<style>\n",
       "    .dataframe thead tr:only-child th {\n",
       "        text-align: right;\n",
       "    }\n",
       "\n",
       "    .dataframe thead th {\n",
       "        text-align: left;\n",
       "    }\n",
       "\n",
       "    .dataframe tbody tr th {\n",
       "        vertical-align: top;\n",
       "    }\n",
       "</style>\n",
       "<table border=\"1\" class=\"dataframe\">\n",
       "  <thead>\n",
       "    <tr style=\"text-align: right;\">\n",
       "      <th></th>\n",
       "      <th>user_id</th>\n",
       "      <th>total_products</th>\n",
       "      <th>total_reorders</th>\n",
       "      <th>order_number</th>\n",
       "      <th>reorder_rate</th>\n",
       "      <th>avg_cart</th>\n",
       "    </tr>\n",
       "  </thead>\n",
       "  <tbody>\n",
       "    <tr>\n",
       "      <th>0</th>\n",
       "      <td>1</td>\n",
       "      <td>30</td>\n",
       "      <td>25</td>\n",
       "      <td>10</td>\n",
       "      <td>0.833333</td>\n",
       "      <td>6.0</td>\n",
       "    </tr>\n",
       "    <tr>\n",
       "      <th>1</th>\n",
       "      <td>2</td>\n",
       "      <td>86</td>\n",
       "      <td>54</td>\n",
       "      <td>10</td>\n",
       "      <td>0.627907</td>\n",
       "      <td>17.2</td>\n",
       "    </tr>\n",
       "    <tr>\n",
       "      <th>2</th>\n",
       "      <td>3</td>\n",
       "      <td>36</td>\n",
       "      <td>30</td>\n",
       "      <td>10</td>\n",
       "      <td>0.833333</td>\n",
       "      <td>7.2</td>\n",
       "    </tr>\n",
       "    <tr>\n",
       "      <th>3</th>\n",
       "      <td>7</td>\n",
       "      <td>29</td>\n",
       "      <td>28</td>\n",
       "      <td>10</td>\n",
       "      <td>0.965517</td>\n",
       "      <td>5.8</td>\n",
       "    </tr>\n",
       "    <tr>\n",
       "      <th>4</th>\n",
       "      <td>11</td>\n",
       "      <td>32</td>\n",
       "      <td>10</td>\n",
       "      <td>7</td>\n",
       "      <td>0.312500</td>\n",
       "      <td>16.0</td>\n",
       "    </tr>\n",
       "  </tbody>\n",
       "</table>\n",
       "</div>"
      ],
      "text/plain": [
       "   user_id  total_products  total_reorders  order_number  reorder_rate  \\\n",
       "0        1              30              25            10      0.833333   \n",
       "1        2              86              54            10      0.627907   \n",
       "2        3              36              30            10      0.833333   \n",
       "3        7              29              28            10      0.965517   \n",
       "4       11              32              10             7      0.312500   \n",
       "\n",
       "   avg_cart  \n",
       "0       6.0  \n",
       "1      17.2  \n",
       "2       7.2  \n",
       "3       5.8  \n",
       "4      16.0  "
      ]
     },
     "execution_count": 59,
     "metadata": {},
     "output_type": "execute_result"
    }
   ],
   "source": [
    "y6classes = df_six_ten.groupby('user_id')['reordered'].agg(['size','sum']).reset_index()\n",
    "y6classes = y6classes.rename(columns={\"size\":\"total_products\", \"sum\":\"total_reorders\"})\n",
    "order_ct = df_six_ten.groupby('user_id')['order_number'].max().reset_index()\n",
    "y6classes = y6classes.merge(order_ct, on = ['user_id', 'user_id'], how = 'left')\n",
    "y6classes['reorder_rate'] = y6classes['total_reorders']/y6classes['total_products']\n",
    "y6classes['avg_cart'] = y6classes['total_products']/(y6classes['order_number']-5)\n",
    "y6classes.head()"
   ]
  },
  {
   "cell_type": "code",
   "execution_count": 60,
   "metadata": {
    "collapsed": true
   },
   "outputs": [],
   "source": [
    "y6classes['cart_size_class'] = y6classes['avg_cart'].apply(lambda x: convert_class_cart(x))\n",
    "y6classes['reorder_class'] = y6classes['reorder_rate'].apply(lambda x: convert_reorder_class(x))\n",
    "y6classes['future_class'] = y6classes['reorder_class']  * y6classes['cart_size_class']"
   ]
  },
  {
   "cell_type": "code",
   "execution_count": 61,
   "metadata": {
    "collapsed": true
   },
   "outputs": [],
   "source": [
    "class_map = { 3: 'low_reorder_low_avg_cart', 4: 'low_reorder_medium_avg_cart',  5: 'low_reorder_large_avg_cart', \n",
    "             6: 'high_reorder_low_avg_cart', 8: 'high_reorder_medium_avg_cart',  10: 'high_reorder_large_avg_cart'}    \n",
    "\n",
    "y6classes['future_class']= y6classes['future_class'].map(class_map)\n",
    "ynewclass = y6classes[['user_id','future_class']]"
   ]
  },
  {
   "cell_type": "markdown",
   "metadata": {},
   "source": [
    "Let's look at the distribution of the classes to see if there's any major imbalance. We have a lot more for high reorder users than other, so might have to upsample for the rest."
   ]
  },
  {
   "cell_type": "code",
   "execution_count": 62,
   "metadata": {
    "collapsed": false
   },
   "outputs": [
    {
     "data": {
      "image/png": "[encoded data removed]",
      "text/plain": [
       "<matplotlib.figure.Figure at 0x7f1196215048>"
      ]
     },
     "metadata": {},
     "output_type": "display_data"
    }
   ],
   "source": [
    "classes = ynewclass['future_class'].value_counts()\n",
    "classes.plot( kind = 'bar');\n",
    "\n"
   ]
  },
  {
   "cell_type": "code",
   "execution_count": 64,
   "metadata": {
    "collapsed": true
   },
   "outputs": [],
   "source": [
    "df_set = df_users_train.merge(ynewclass, on = 'user_id')\n",
    "X_train, X_test, y_train, y_test = train_test_split(df_set.drop(['future_class'], 1)\n",
    "                                                    , df_set['future_class'], train_size = .3)"
   ]
  },
  {
   "cell_type": "code",
   "execution_count": 65,
   "metadata": {
    "collapsed": false
   },
   "outputs": [
    {
     "name": "stdout",
     "output_type": "stream",
     "text": [
      "0.478366885144\n",
      "                              precision    recall  f1-score   support\n",
      "\n",
      " high_reorder_large_avg_cart       0.56      0.84      0.68     24336\n",
      "   high_reorder_low_avg_cart       0.48      0.79      0.60     23039\n",
      "high_reorder_medium_avg_cart       0.39      0.20      0.26     20588\n",
      "  low_reorder_large_avg_cart       0.39      0.10      0.16      9894\n",
      "    low_reorder_low_avg_cart       0.56      0.01      0.01     10781\n",
      " low_reorder_medium_avg_cart       0.34      0.37      0.36     13890\n",
      "\n",
      "                 avg / total       0.46      0.48      0.41    102528\n",
      "\n"
     ]
    }
   ],
   "source": [
    "log = LogisticRegression()\n",
    "log.fit(X_train, y_train)\n",
    "print(accuracy_score(y_test, log.predict(X_test)))\n",
    "print(classification_report(y_test, log.predict(X_test)))"
   ]
  },
  {
   "cell_type": "markdown",
   "metadata": {},
   "source": [
    "Let's try scaling the data"
   ]
  },
  {
   "cell_type": "code",
   "execution_count": 6,
   "metadata": {
    "collapsed": false
   },
   "outputs": [
    {
     "name": "stdout",
     "output_type": "stream",
     "text": [
      "0.518346207865\n",
      "                              precision    recall  f1-score   support\n",
      "\n",
      " high_reorder_large_avg_cart       0.65      0.75      0.69     24525\n",
      "   high_reorder_low_avg_cart       0.59      0.66      0.62     23074\n",
      "high_reorder_medium_avg_cart       0.41      0.49      0.45     20389\n",
      "  low_reorder_large_avg_cart       0.40      0.17      0.24      9851\n",
      "    low_reorder_low_avg_cart       0.47      0.28      0.35     10865\n",
      " low_reorder_medium_avg_cart       0.36      0.34      0.35     13824\n",
      "\n",
      "                 avg / total       0.51      0.52      0.50    102528\n",
      "\n"
     ]
    }
   ],
   "source": [
    "from sklearn.preprocessing import StandardScaler\n",
    "\n",
    "X = StandardScaler().fit_transform(df_set.drop(['future_class'], 1))\n",
    "\n",
    "Xs_train, Xs_test, ys_train, ys_test = train_test_split(X, \n",
    "                                                        df_set['future_class'], train_size = .3, random_state = 444)\n",
    "logs = LogisticRegression()\n",
    "logs.fit(Xs_train, ys_train)\n",
    "print(accuracy_score(ys_test, logs.predict(Xs_test)))\n",
    "print(classification_report(ys_test, logs.predict(Xs_test)))\n",
    "                                   "
   ]
  },
  {
   "cell_type": "markdown",
   "metadata": {},
   "source": [
    "Looks like scaling worked well. I'm going to try resampling and rescaling"
   ]
  },
  {
   "cell_type": "code",
   "execution_count": 67,
   "metadata": {
    "collapsed": true
   },
   "outputs": [],
   "source": [
    "df_set3 = resamplingv2(df_set2, 'future_class', 'low_reorder_low_avg_cart')\n",
    "df_set3 = resamplingv2(df_set3, 'future_class', 'high_reorder_medium_avg_cart')\n",
    "df_set3 = resamplingv2(df_set3, 'future_class', 'high_reorder_large_avg_cart')\n",
    "df_set3 = resamplingv2(df_set3, 'future_class', 'low_reorder_large_avg_cart')\n",
    "df_set3 = resamplingv2(df_set3, 'future_class', 'low_reorder_medium_avg_cart')\n",
    "df_set3 = resamplingv2(df_set3, 'future_class', 'high_reorder_low_avg_cart')"
   ]
  },
  {
   "cell_type": "code",
   "execution_count": 68,
   "metadata": {
    "collapsed": false
   },
   "outputs": [
    {
     "data": {
      "image/png": "[encoded data removed]",
      "text/plain": [
       "<matplotlib.figure.Figure at 0x7f11961dc5f8>"
      ]
     },
     "metadata": {},
     "output_type": "display_data"
    }
   ],
   "source": [
    "classes = df_set3['future_class'].value_counts()\n",
    "classes.plot( kind = 'bar');"
   ]
  },
  {
   "cell_type": "code",
   "execution_count": 69,
   "metadata": {
    "collapsed": false
   },
   "outputs": [
    {
     "name": "stdout",
     "output_type": "stream",
     "text": [
      "0.480957629194\n",
      "                              precision    recall  f1-score   support\n",
      "\n",
      " high_reorder_large_avg_cart       0.61      0.65      0.62     24254\n",
      "   high_reorder_low_avg_cart       0.54      0.51      0.53     24376\n",
      "high_reorder_medium_avg_cart       0.41      0.44      0.43     24627\n",
      "  low_reorder_large_avg_cart       0.46      0.41      0.43     24606\n",
      "    low_reorder_low_avg_cart       0.51      0.51      0.51     24578\n",
      " low_reorder_medium_avg_cart       0.36      0.37      0.37     24547\n",
      "\n",
      "                 avg / total       0.48      0.48      0.48    146988\n",
      "\n"
     ]
    }
   ],
   "source": [
    "\n",
    "X2 = StandardScaler().fit_transform(df_set3.drop(['future_class'], 1))\n",
    "\n",
    "X2_train, X2_test, y2_train, y2_test = train_test_split(X2, df_set3['future_class'], \n",
    "                                                        train_size = .3, random_state = 444)\n",
    "\n",
    "log2 = LogisticRegression()\n",
    "log2.fit(X2_train, y2_train)\n",
    "print(accuracy_score(y2_test, log2.predict(X2_test)))\n",
    "print(classification_report(y2_test, log2.predict(X2_test)))"
   ]
  },
  {
   "cell_type": "markdown",
   "metadata": {},
   "source": [
    "That... didn't actually help. Let's try some other models with just the scaled data."
   ]
  },
  {
   "cell_type": "code",
   "execution_count": 70,
   "metadata": {
    "collapsed": false
   },
   "outputs": [
    {
     "name": "stdout",
     "output_type": "stream",
     "text": [
      "0.432945146692\n",
      "                              precision    recall  f1-score   support\n",
      "\n",
      " high_reorder_large_avg_cart       0.71      0.51      0.59     24525\n",
      "   high_reorder_low_avg_cart       0.50      0.63      0.56     23074\n",
      "high_reorder_medium_avg_cart       0.37      0.29      0.33     20389\n",
      "  low_reorder_large_avg_cart       0.23      0.29      0.26      9851\n",
      "    low_reorder_low_avg_cart       0.34      0.39      0.36     10865\n",
      " low_reorder_medium_avg_cart       0.29      0.30      0.29     13824\n",
      "\n",
      "                 avg / total       0.45      0.43      0.44    102528\n",
      "\n"
     ]
    }
   ],
   "source": [
    "gau2 = GaussianNB()\n",
    "gau2.fit(Xs_train, ys_train)\n",
    "print(accuracy_score(ys_test, gau2.predict(Xs_test)))\n",
    "print(classification_report(ys_test, gau2.predict(Xs_test)))"
   ]
  },
  {
   "cell_type": "code",
   "execution_count": 71,
   "metadata": {
    "collapsed": false
   },
   "outputs": [
    {
     "name": "stdout",
     "output_type": "stream",
     "text": [
      "0.517185549313\n",
      "                              precision    recall  f1-score   support\n",
      "\n",
      " high_reorder_large_avg_cart       0.64      0.75      0.69     24525\n",
      "   high_reorder_low_avg_cart       0.59      0.66      0.62     23074\n",
      "high_reorder_medium_avg_cart       0.42      0.48      0.45     20389\n",
      "  low_reorder_large_avg_cart       0.38      0.19      0.26      9851\n",
      "    low_reorder_low_avg_cart       0.46      0.27      0.34     10865\n",
      " low_reorder_medium_avg_cart       0.36      0.34      0.35     13824\n",
      "\n",
      "                 avg / total       0.50      0.52      0.50    102528\n",
      "\n"
     ]
    }
   ],
   "source": [
    "rfc = RandomForestClassifier(n_estimators = 100)\n",
    "rfc.fit(Xs_train, ys_train)\n",
    "print(accuracy_score(ys_test, rfc.predict(Xs_test)))\n",
    "print(classification_report(ys_test, rfc.predict(Xs_test)))"
   ]
  },
  {
   "cell_type": "code",
   "execution_count": 72,
   "metadata": {
    "collapsed": false
   },
   "outputs": [
    {
     "name": "stdout",
     "output_type": "stream",
     "text": [
      "0.514854478777\n",
      "                              precision    recall  f1-score   support\n",
      "\n",
      " high_reorder_large_avg_cart       0.64      0.76      0.69     24525\n",
      "   high_reorder_low_avg_cart       0.62      0.60      0.61     23074\n",
      "high_reorder_medium_avg_cart       0.43      0.47      0.45     20389\n",
      "  low_reorder_large_avg_cart       0.37      0.20      0.26      9851\n",
      "    low_reorder_low_avg_cart       0.43      0.33      0.37     10865\n",
      " low_reorder_medium_avg_cart       0.35      0.38      0.36     13824\n",
      "\n",
      "                 avg / total       0.50      0.51      0.51    102528\n",
      "\n"
     ]
    }
   ],
   "source": [
    "abc = AdaBoostClassifier()\n",
    "abc.fit(Xs_train, ys_train)\n",
    "print(accuracy_score(ys_test, abc.predict(Xs_test)))\n",
    "print(classification_report(ys_test, abc.predict(Xs_test)))"
   ]
  },
  {
   "cell_type": "code",
   "execution_count": 73,
   "metadata": {
    "collapsed": false
   },
   "outputs": [
    {
     "name": "stdout",
     "output_type": "stream",
     "text": [
      "0.52134051186\n",
      "                              precision    recall  f1-score   support\n",
      "\n",
      " high_reorder_large_avg_cart       0.66      0.74      0.69     24525\n",
      "   high_reorder_low_avg_cart       0.61      0.64      0.63     23074\n",
      "high_reorder_medium_avg_cart       0.42      0.50      0.46     20389\n",
      "  low_reorder_large_avg_cart       0.38      0.22      0.28      9851\n",
      "    low_reorder_low_avg_cart       0.46      0.29      0.36     10865\n",
      " low_reorder_medium_avg_cart       0.36      0.37      0.36     13824\n",
      "\n",
      "                 avg / total       0.51      0.52      0.51    102528\n",
      "\n"
     ]
    }
   ],
   "source": [
    "gbc = GradientBoostingClassifier()\n",
    "gbc.fit(Xs_train, ys_train)\n",
    "print(accuracy_score(ys_test, gbc.predict(Xs_test)))\n",
    "print(classification_report(ys_test, gbc.predict(Xs_test)))"
   ]
  },
  {
   "cell_type": "code",
   "execution_count": 74,
   "metadata": {
    "collapsed": false
   },
   "outputs": [
    {
     "name": "stdout",
     "output_type": "stream",
     "text": [
      "GradientBoostingClassifier(criterion='friedman_mse', init=None,\n",
      "              learning_rate=0.1, loss='deviance', max_depth=3,\n",
      "              max_features=None, max_leaf_nodes=None,\n",
      "              min_impurity_split=1e-07, min_samples_leaf=1,\n",
      "              min_samples_split=2, min_weight_fraction_leaf=0.0,\n",
      "              n_estimators=100, presort='auto', random_state=None,\n",
      "              subsample=1.0, verbose=0, warm_start=False) \n",
      "Avg score: 0.4211358506\n",
      "AdaBoostClassifier(algorithm='SAMME.R', base_estimator=None,\n",
      "          learning_rate=1.0, n_estimators=50, random_state=None) \n",
      "Avg score: 0.456572674189\n",
      "RandomForestClassifier(bootstrap=True, class_weight=None, criterion='gini',\n",
      "            max_depth=None, max_features='auto', max_leaf_nodes=None,\n",
      "            min_impurity_split=1e-07, min_samples_leaf=1,\n",
      "            min_samples_split=2, min_weight_fraction_leaf=0.0,\n",
      "            n_estimators=100, n_jobs=1, oob_score=False, random_state=None,\n",
      "            verbose=0, warm_start=False) \n",
      "Avg score: 0.517669440069\n",
      "GaussianNB(priors=None) \n",
      "Avg score: 0.432906969948\n",
      "LogisticRegression(C=1.0, class_weight=None, dual=False, fit_intercept=True,\n",
      "          intercept_scaling=1, max_iter=100, multi_class='ovr', n_jobs=1,\n",
      "          penalty='l2', random_state=None, solver='liblinear', tol=0.0001,\n",
      "          verbose=0, warm_start=False) \n",
      "Avg score: 0.521137745291\n"
     ]
    }
   ],
   "source": [
    "classes = [gbc, abc, rfc, gau2, logs]\n",
    "for x in classes: \n",
    "    print(x, '\\nAvg score:', np.mean(cross_val_score(x, X, df_set2['future_class'], cv = 5, n_jobs= 2)))"
   ]
  },
  {
   "cell_type": "markdown",
   "metadata": {},
   "source": [
    "Let's try it with some adjusted class weights"
   ]
  },
  {
   "cell_type": "code",
   "execution_count": 75,
   "metadata": {
    "collapsed": true
   },
   "outputs": [],
   "source": [
    "weights = {'low_reorder_low_avg_cart':1, 'low_reorder_medium_avg_cart':2,  'low_reorder_large_avg_cart':3, \n",
    "             'high_reorder_low_avg_cart':1, 'high_reorder_medium_avg_cart':2, 'high_reorder_large_avg_cart': 3}  "
   ]
  },
  {
   "cell_type": "code",
   "execution_count": null,
   "metadata": {
    "collapsed": true
   },
   "outputs": [],
   "source": [
    "crange = [.01, .05, .1,.2,.5, 1, 2, 3,4,5,6,7,8,9,10]\n",
    "  \n",
    "\n",
    "param = dict(C =crange, class_weight = ['balanced', weights])\n",
    "\n",
    "grid = GridSearchCV(logs, param, cv=5, scoring='accuracy')\n",
    "grid.fit(X, df_set2['future_class'])"
   ]
  },
  {
   "cell_type": "markdown",
   "metadata": {},
   "source": [
    "Best Parameters are C = .01 with class weights. Let's check out the f1 scores"
   ]
  },
  {
   "cell_type": "code",
   "execution_count": 76,
   "metadata": {
    "collapsed": false
   },
   "outputs": [
    {
     "name": "stdout",
     "output_type": "stream",
     "text": [
      "0.515127574906\n",
      "                              precision    recall  f1-score   support\n",
      "\n",
      " high_reorder_large_avg_cart       0.63      0.78      0.70     24705\n",
      "   high_reorder_low_avg_cart       0.64      0.59      0.61     22988\n",
      "high_reorder_medium_avg_cart       0.42      0.49      0.45     20414\n",
      "  low_reorder_large_avg_cart       0.36      0.23      0.28      9753\n",
      "    low_reorder_low_avg_cart       0.54      0.18      0.27     10808\n",
      " low_reorder_medium_avg_cart       0.34      0.40      0.37     13860\n",
      "\n",
      "                 avg / total       0.51      0.52      0.50    102528\n",
      "\n"
     ]
    }
   ],
   "source": [
    "logg = LogisticRegression(C = .01,class_weight = {'high_reorder_large_avg_cart': 3,\n",
    "  'high_reorder_low_avg_cart': 1,\n",
    "  'high_reorder_medium_avg_cart': 2,\n",
    "  'low_reorder_large_avg_cart': 3,\n",
    "  'low_reorder_low_avg_cart': 1,\n",
    "  'low_reorder_medium_avg_cart': 2})\n",
    "Xs_train, Xs_test, ys_train, ys_test = train_test_split(X, \n",
    "                                                        df_set2['future_class'], train_size = .3)\n",
    "logg.fit(Xs_train,ys_train)\n",
    "print(accuracy_score(ys_test, logg.predict(Xs_test)))\n",
    "print(classification_report(ys_test, logg.predict(Xs_test)))"
   ]
  },
  {
   "cell_type": "code",
   "execution_count": 11,
   "metadata": {
    "collapsed": false
   },
   "outputs": [
    {
     "name": "stdout",
     "output_type": "stream",
     "text": [
      "0.518141385768\n",
      "                              precision    recall  f1-score   support\n",
      "\n",
      " high_reorder_large_avg_cart       0.64      0.76      0.70     24525\n",
      "   high_reorder_low_avg_cart       0.59      0.66      0.62     23074\n",
      "high_reorder_medium_avg_cart       0.41      0.48      0.44     20389\n",
      "  low_reorder_large_avg_cart       0.40      0.17      0.23      9851\n",
      "    low_reorder_low_avg_cart       0.47      0.27      0.35     10865\n",
      " low_reorder_medium_avg_cart       0.36      0.35      0.35     13824\n",
      "\n",
      "                 avg / total       0.50      0.52      0.50    102528\n",
      "\n"
     ]
    }
   ],
   "source": [
    "logg2 = LogisticRegression(C = .01)\n",
    "\n",
    "logg2.fit(Xs_train,ys_train)\n",
    "print(accuracy_score(ys_test, logg2.predict(Xs_test)))\n",
    "print(classification_report(ys_test, logg2.predict(Xs_test)))"
   ]
  },
  {
   "cell_type": "code",
   "execution_count": 78,
   "metadata": {
    "collapsed": true
   },
   "outputs": [],
   "source": [
    "gridrf = joblib.load('gridrf') "
   ]
  },
  {
   "cell_type": "code",
   "execution_count": 79,
   "metadata": {
    "collapsed": false
   },
   "outputs": [
    {
     "name": "stderr",
     "output_type": "stream",
     "text": [
      "/home/leangers/anaconda3/lib/python3.6/site-packages/sklearn/model_selection/_search.py:667: DeprecationWarning: The grid_scores_ attribute was deprecated in version 0.18 in favor of the more elaborate cv_results_ attribute. The grid_scores_ attribute will not be available from 0.20\n",
      "  DeprecationWarning)\n"
     ]
    },
    {
     "data": {
      "text/plain": [
       "[mean: 0.48215, std: 0.00298, params: {'class_weight': 'balanced', 'n_estimators': 10},\n",
       " mean: 0.51201, std: 0.00257, params: {'class_weight': 'balanced', 'n_estimators': 50},\n",
       " mean: 0.51744, std: 0.00244, params: {'class_weight': 'balanced', 'n_estimators': 100},\n",
       " mean: 0.48390, std: 0.00380, params: {'class_weight': {'low_reorder_low_avg_cart': 1, 'low_reorder_medium_avg_cart': 2, 'low_reorder_large_avg_cart': 3, 'high_reorder_low_avg_cart': 1, 'high_reorder_medium_avg_cart': 2, 'high_reorder_large_avg_cart': 3}, 'n_estimators': 10},\n",
       " mean: 0.51200, std: 0.00226, params: {'class_weight': {'low_reorder_low_avg_cart': 1, 'low_reorder_medium_avg_cart': 2, 'low_reorder_large_avg_cart': 3, 'high_reorder_low_avg_cart': 1, 'high_reorder_medium_avg_cart': 2, 'high_reorder_large_avg_cart': 3}, 'n_estimators': 50},\n",
       " mean: 0.51726, std: 0.00202, params: {'class_weight': {'low_reorder_low_avg_cart': 1, 'low_reorder_medium_avg_cart': 2, 'low_reorder_large_avg_cart': 3, 'high_reorder_low_avg_cart': 1, 'high_reorder_medium_avg_cart': 2, 'high_reorder_large_avg_cart': 3}, 'n_estimators': 100}]"
      ]
     },
     "execution_count": 79,
     "metadata": {},
     "output_type": "execute_result"
    }
   ],
   "source": [
    "gridrf.grid_scores_\n"
   ]
  },
  {
   "cell_type": "code",
   "execution_count": 8,
   "metadata": {
    "collapsed": false
   },
   "outputs": [
    {
     "name": "stdout",
     "output_type": "stream",
     "text": [
      "0.520921114232\n",
      "                              precision    recall  f1-score   support\n",
      "\n",
      " high_reorder_large_avg_cart       0.64      0.76      0.70     24525\n",
      "   high_reorder_low_avg_cart       0.60      0.66      0.63     23074\n",
      "high_reorder_medium_avg_cart       0.42      0.49      0.45     20389\n",
      "  low_reorder_large_avg_cart       0.39      0.19      0.26      9851\n",
      "    low_reorder_low_avg_cart       0.48      0.27      0.34     10865\n",
      " low_reorder_medium_avg_cart       0.36      0.36      0.36     13824\n",
      "\n",
      "                 avg / total       0.51      0.52      0.51    102528\n",
      "\n"
     ]
    }
   ],
   "source": [
    "RFC3 = RandomForestClassifier(n_estimators = 1000)\n",
    "RFC3.fit(Xs_train, ys_train)\n",
    "print(accuracy_score(ys_test, RFC3.predict(Xs_test)))\n",
    "print(classification_report(ys_test, RFC3.predict(Xs_test)))"
   ]
  },
  {
   "cell_type": "code",
   "execution_count": 81,
   "metadata": {
    "collapsed": false
   },
   "outputs": [
    {
     "name": "stdout",
     "output_type": "stream",
     "text": [
      "0.523564294632\n",
      "                              precision    recall  f1-score   support\n",
      "\n",
      " high_reorder_large_avg_cart       0.66      0.75      0.70     24705\n",
      "   high_reorder_low_avg_cart       0.59      0.66      0.62     22988\n",
      "high_reorder_medium_avg_cart       0.43      0.48      0.45     20414\n",
      "  low_reorder_large_avg_cart       0.38      0.20      0.26      9753\n",
      "    low_reorder_low_avg_cart       0.48      0.28      0.36     10808\n",
      " low_reorder_medium_avg_cart       0.36      0.36      0.36     13860\n",
      "\n",
      "                 avg / total       0.51      0.52      0.51    102528\n",
      "\n"
     ]
    }
   ],
   "source": [
    "eclf = VotingClassifier(estimators=[('gbc', gbc), ('abc', abc), \n",
    "                                    ('gau', gau2), ('rfc', RFC3), ('log', logg2)], \n",
    "                        voting='hard')\n",
    "\n",
    "eclf.fit(Xs_train, ys_train)\n",
    "print(accuracy_score(ys_test, eclf.predict(Xs_test)))\n",
    "print(classification_report(ys_test, eclf.predict(Xs_test)))"
   ]
  },
  {
   "cell_type": "code",
   "execution_count": 95,
   "metadata": {
    "collapsed": false
   },
   "outputs": [
    {
     "data": {
      "text/plain": [
       "<matplotlib.text.Text at 0x7f118a708438>"
      ]
     },
     "execution_count": 95,
     "metadata": {},
     "output_type": "execute_result"
    },
    {
     "data": {
      "image/png": "[encoded data removed]",
      "text/plain": [
       "<matplotlib.figure.Figure at 0x7f119173f908>"
      ]
     },
     "metadata": {},
     "output_type": "display_data"
    }
   ],
   "source": [
    "plt.figure(figsize = (20,15))\n",
    "sns.heatmap(confusion_matrix(ys_test, eclf.predict(Xs_test)), \n",
    "            xticklabels = ['High Reorder, Large Carts', 'High Reorder, Medium Carts','High Reorder, Small Carts', \n",
    "                           'Low Reorder, Large Carts','Low Reorder, Medium Carts','Low Reorder, Small Carts',], \n",
    "            yticklabels = ['High Reorder, Large Carts', 'High Reorder, Medium Carts', 'High Reorder, Small Carts', \n",
    "                           'Low Reorder, Large Carts', 'Low Reorder, Medium Carts','Low Reorder, Small Carts',], \n",
    "            cmap = \"BuGn\")\n",
    "plt.title(\"Ensemble Confusion Matrix\")"
   ]
  },
  {
   "cell_type": "code",
   "execution_count": 14,
   "metadata": {
    "collapsed": false
   },
   "outputs": [
    {
     "data": {
      "text/plain": [
       "[('log_total_products', 0.037994973772723067),\n",
       " ('avg_cart', 0.037564516921306634),\n",
       " ('total_products', 0.035797553773893494),\n",
       " ('log_avg_cart', 0.035067221650467932),\n",
       " ('total_reorders', 0.029133765796650078),\n",
       " ('0_streak', 0.02812944114784682),\n",
       " ('avg_reorders', 0.028081128547128662),\n",
       " ('0_reorder_ratio', 0.02779943733210602),\n",
       " ('ttl_reorder_rate', 0.027066960767508853),\n",
       " ('order_gap_std', 0.022261620608073882),\n",
       " ('order_gap_mean', 0.022090348584718138),\n",
       " ('user_id', 0.021115414688280657),\n",
       " ('hour_std', 0.020651973403800511),\n",
       " ('hour_mean', 0.01984354575540918),\n",
       " ('dow_std', 0.019790703926822341),\n",
       " ('dow_mean', 0.019459681154646909),\n",
       " ('2_streak', 0.018622985717450954),\n",
       " ('cart_size_class', 0.018327180337330308),\n",
       " ('fresh vegetables', 0.016557076944411178),\n",
       " ('3_reorder_ratio', 0.016421679234869348)]"
      ]
     },
     "execution_count": 14,
     "metadata": {},
     "output_type": "execute_result"
    }
   ],
   "source": [
    "features = zip(df_set.drop('future_class',1).columns, RFC3.feature_importances_)\n",
    "features = sorted(featuresv2, key = lambda x: x[1], reverse = True)\n",
    "\n",
    "features [:20]"
   ]
  },
  {
   "cell_type": "code",
   "execution_count": 4,
   "metadata": {
    "collapsed": true
   },
   "outputs": [],
   "source": [
    "df_set = pd.read_pickle('X_Scaled_upsampled')"
   ]
  },
  {
   "cell_type": "markdown",
   "metadata": {},
   "source": [
    "I accidentally left in user_id - let's get rid of it."
   ]
  },
  {
   "cell_type": "code",
   "execution_count": 16,
   "metadata": {
    "collapsed": true
   },
   "outputs": [],
   "source": [
    "df_set = df_set.drop('user_id', 1)"
   ]
  },
  {
   "cell_type": "code",
   "execution_count": 17,
   "metadata": {
    "collapsed": true
   },
   "outputs": [],
   "source": [
    "X_t = StandardScaler().fit_transform(df_set.drop(['frozen juice', 'baby accessories', 'beauty',\n",
    "                                                         'baby bath body care', 'kosher foods', 'skin care', \n",
    "                                                         'bulk dried fruits vegetables', 'ice cream toppings', \n",
    "                                                         'kitchen supplies','eye ear care', 'future_class'],1))\n",
    "Xt_train, Xt_test, yt_train, yt_test = train_test_split(X_t, df_set['future_class'], train_size = .3)"
   ]
  },
  {
   "cell_type": "code",
   "execution_count": 18,
   "metadata": {
    "collapsed": false
   },
   "outputs": [
    {
     "name": "stdout",
     "output_type": "stream",
     "text": [
      "0.519828729713\n",
      "                              precision    recall  f1-score   support\n",
      "\n",
      " high_reorder_large_avg_cart       0.63      0.77      0.70     24401\n",
      "   high_reorder_low_avg_cart       0.59      0.66      0.62     23032\n",
      "high_reorder_medium_avg_cart       0.43      0.47      0.45     20571\n",
      "  low_reorder_large_avg_cart       0.39      0.18      0.24      9939\n",
      "    low_reorder_low_avg_cart       0.47      0.26      0.34     10784\n",
      " low_reorder_medium_avg_cart       0.35      0.37      0.36     13801\n",
      "\n",
      "                 avg / total       0.51      0.52      0.50    102528\n",
      "\n"
     ]
    }
   ],
   "source": [
    "RFCt = RandomForestClassifier(n_estimators = 1000)\n",
    "RFCt.fit(Xt_train, yt_train)\n",
    "print(accuracy_score(yt_test, RFCt.predict(Xt_test)))\n",
    "print(classification_report(yt_test, RFCt.predict(Xt_test)))"
   ]
  },
  {
   "cell_type": "code",
   "execution_count": 19,
   "metadata": {
    "collapsed": false
   },
   "outputs": [
    {
     "name": "stdout",
     "output_type": "stream",
     "text": [
      "0.521765843254\n",
      "                              precision    recall  f1-score   support\n",
      "\n",
      " high_reorder_large_avg_cart       0.63      0.77      0.70     24401\n",
      "   high_reorder_low_avg_cart       0.58      0.67      0.62     23032\n",
      "high_reorder_medium_avg_cart       0.43      0.46      0.44     20571\n",
      "  low_reorder_large_avg_cart       0.40      0.15      0.22      9939\n",
      "    low_reorder_low_avg_cart       0.47      0.27      0.34     10784\n",
      " low_reorder_medium_avg_cart       0.35      0.36      0.36     13801\n",
      "\n",
      "                 avg / total       0.50      0.52      0.50    102528\n",
      "\n"
     ]
    }
   ],
   "source": [
    "logt = LogisticRegression(C = .01)\n",
    "logt.fit(Xt_train, yt_train)\n",
    "print(np.mean(cross_val_score(logt, X_t, df_set['future_class'], cv = 5, n_jobs= 2)))\n",
    "print(classification_report(yt_test, logt.predict(Xt_test)))"
   ]
  },
  {
   "cell_type": "code",
   "execution_count": 24,
   "metadata": {
    "collapsed": true
   },
   "outputs": [],
   "source": [
    "X_s = StandardScaler().fit_transform(df_set.drop(['future_class'],1))\n",
    "Xs_train, Xs_test, ys_train, ys_test = train_test_split(X_s, df_set['future_class'], train_size = .3)\n"
   ]
  },
  {
   "cell_type": "code",
   "execution_count": 25,
   "metadata": {
    "collapsed": false
   },
   "outputs": [
    {
     "name": "stdout",
     "output_type": "stream",
     "text": [
      "0.520960127965\n",
      "                              precision    recall  f1-score   support\n",
      "\n",
      " high_reorder_large_avg_cart       0.64      0.76      0.70     24593\n",
      "   high_reorder_low_avg_cart       0.59      0.65      0.62     23000\n",
      "high_reorder_medium_avg_cart       0.43      0.49      0.46     20437\n",
      "  low_reorder_large_avg_cart       0.38      0.19      0.25      9832\n",
      "    low_reorder_low_avg_cart       0.47      0.26      0.33     10840\n",
      " low_reorder_medium_avg_cart       0.36      0.37      0.36     13826\n",
      "\n",
      "                 avg / total       0.51      0.52      0.51    102528\n",
      "\n"
     ]
    }
   ],
   "source": [
    "RFCs = RandomForestClassifier(n_estimators = 1000)\n",
    "RFCs.fit(Xs_train, ys_train)\n",
    "print(accuracy_score(ys_test, RFCs.predict(Xs_test)))\n",
    "print(classification_report(ys_test, RFCs.predict(Xs_test)))"
   ]
  },
  {
   "cell_type": "code",
   "execution_count": 26,
   "metadata": {
    "collapsed": false
   },
   "outputs": [
    {
     "name": "stdout",
     "output_type": "stream",
     "text": [
      "0.521465458154\n",
      "                              precision    recall  f1-score   support\n",
      "\n",
      " high_reorder_large_avg_cart       0.65      0.76      0.70     24593\n",
      "   high_reorder_low_avg_cart       0.58      0.67      0.62     23000\n",
      "high_reorder_medium_avg_cart       0.42      0.48      0.45     20437\n",
      "  low_reorder_large_avg_cart       0.39      0.16      0.23      9832\n",
      "    low_reorder_low_avg_cart       0.48      0.27      0.34     10840\n",
      " low_reorder_medium_avg_cart       0.36      0.35      0.35     13826\n",
      "\n",
      "                 avg / total       0.50      0.52      0.50    102528\n",
      "\n"
     ]
    }
   ],
   "source": [
    "logs = LogisticRegression(C = .01)\n",
    "logs.fit(Xs_train, ys_train)\n",
    "print(np.mean(cross_val_score(logs, X_s, df_set['future_class'], cv = 5, n_jobs= 2)))\n",
    "print(classification_report(ys_test, logs.predict(Xs_test)))"
   ]
  },
  {
   "cell_type": "code",
   "execution_count": 27,
   "metadata": {
    "collapsed": false
   },
   "outputs": [
    {
     "name": "stdout",
     "output_type": "stream",
     "text": [
      "0.521984238452\n",
      "                              precision    recall  f1-score   support\n",
      "\n",
      " high_reorder_large_avg_cart       0.66      0.74      0.70     24593\n",
      "   high_reorder_low_avg_cart       0.60      0.65      0.62     23000\n",
      "high_reorder_medium_avg_cart       0.43      0.50      0.46     20437\n",
      "  low_reorder_large_avg_cart       0.37      0.21      0.27      9832\n",
      "    low_reorder_low_avg_cart       0.47      0.28      0.35     10840\n",
      " low_reorder_medium_avg_cart       0.35      0.37      0.36     13826\n",
      "\n",
      "                 avg / total       0.51      0.52      0.51    102528\n",
      "\n"
     ]
    }
   ],
   "source": [
    "gbcs = GradientBoostingClassifier()\n",
    "gbcs.fit(Xs_train, ys_train)\n",
    "print(accuracy_score(ys_test, gbcs.predict(Xs_test)))\n",
    "print(classification_report(ys_test, gbcs.predict(Xs_test)))"
   ]
  },
  {
   "cell_type": "code",
   "execution_count": 28,
   "metadata": {
    "collapsed": false
   },
   "outputs": [
    {
     "name": "stdout",
     "output_type": "stream",
     "text": [
      "0.507646691635\n",
      "                              precision    recall  f1-score   support\n",
      "\n",
      " high_reorder_large_avg_cart       0.64      0.74      0.69     24593\n",
      "   high_reorder_low_avg_cart       0.61      0.59      0.60     23000\n",
      "high_reorder_medium_avg_cart       0.42      0.47      0.44     20437\n",
      "  low_reorder_large_avg_cart       0.32      0.23      0.27      9832\n",
      "    low_reorder_low_avg_cart       0.43      0.34      0.38     10840\n",
      " low_reorder_medium_avg_cart       0.35      0.35      0.35     13826\n",
      "\n",
      "                 avg / total       0.50      0.51      0.50    102528\n",
      "\n"
     ]
    }
   ],
   "source": [
    "adcs = AdaBoostClassifier()\n",
    "adcs.fit(Xs_train, ys_train)\n",
    "print(accuracy_score(ys_test, adcs.predict(Xs_test)))\n",
    "print(classification_report(ys_test, adcs.predict(Xs_test)))"
   ]
  },
  {
   "cell_type": "code",
   "execution_count": 29,
   "metadata": {
    "collapsed": false
   },
   "outputs": [
    {
     "name": "stdout",
     "output_type": "stream",
     "text": [
      "0.522140293383\n",
      "                              precision    recall  f1-score   support\n",
      "\n",
      " high_reorder_large_avg_cart       0.64      0.77      0.70     24593\n",
      "   high_reorder_low_avg_cart       0.59      0.67      0.63     23000\n",
      "high_reorder_medium_avg_cart       0.43      0.48      0.45     20437\n",
      "  low_reorder_large_avg_cart       0.37      0.18      0.24      9832\n",
      "    low_reorder_low_avg_cart       0.48      0.27      0.34     10840\n",
      " low_reorder_medium_avg_cart       0.36      0.34      0.35     13826\n",
      "\n",
      "                 avg / total       0.51      0.52      0.51    102528\n",
      "\n"
     ]
    }
   ],
   "source": [
    "eclf = VotingClassifier(estimators=[('gbc', gbcs), ('abc', adcs), ('rfc', RFCs), ('log', logs)], \n",
    "                        voting='hard')\n",
    "\n",
    "eclf.fit(Xs_train, ys_train)\n",
    "print(accuracy_score(ys_test, eclf.predict(Xs_test)))\n",
    "print(classification_report(ys_test, eclf.predict(Xs_test)))"
   ]
  },
  {
   "cell_type": "code",
   "execution_count": 30,
   "metadata": {
    "collapsed": false
   },
   "outputs": [
    {
     "data": {
      "text/plain": [
       "[('total_products', 0.037375160706120028),\n",
       " ('log_avg_cart', 0.036851235412701473),\n",
       " ('log_total_products', 0.03660550670831314),\n",
       " ('avg_cart', 0.03524323925946897),\n",
       " ('total_reorders', 0.02941331770913419),\n",
       " ('avg_reorders', 0.028127909200436178),\n",
       " ('0_streak', 0.028086573617823685),\n",
       " ('ttl_reorder_rate', 0.027818324044682985),\n",
       " ('0_reorder_ratio', 0.027622211691035757),\n",
       " ('order_gap_mean', 0.023087827172550618),\n",
       " ('order_gap_std', 0.022921009475690667),\n",
       " ('hour_std', 0.021296408123562326),\n",
       " ('hour_mean', 0.020641275214875521),\n",
       " ('dow_std', 0.020581338506854185),\n",
       " ('dow_mean', 0.019968019775279545),\n",
       " ('2_streak', 0.019529034584410285),\n",
       " ('cart_size_class', 0.017864597729067549),\n",
       " ('fresh fruits', 0.017069954687309142),\n",
       " ('fresh vegetables', 0.016720980197895537),\n",
       " ('3_reorder_ratio', 0.016575294231530362)]"
      ]
     },
     "execution_count": 30,
     "metadata": {},
     "output_type": "execute_result"
    }
   ],
   "source": [
    "featuresv2 = zip(df_set.drop('future_class',1).columns, RFCs.feature_importances_)\n",
    "featuresv2 = sorted(featuresv2, key = lambda x: x[1], reverse = True)\n",
    "\n",
    "featuresv2 [:20]"
   ]
  },
  {
   "cell_type": "code",
   "execution_count": null,
   "metadata": {
    "collapsed": true
   },
   "outputs": [],
   "source": []
  }
 ],
 "metadata": {
  "kernelspec": {
   "display_name": "Python 3",
   "language": "python",
   "name": "python3"
  },
  "language_info": {
   "codemirror_mode": {
    "name": "ipython",
    "version": 3
   },
   "file_extension": ".py",
   "mimetype": "text/x-python",
   "name": "python",
   "nbconvert_exporter": "python",
   "pygments_lexer": "ipython3",
   "version": "3.6.0"
  }
 },
 "nbformat": 4,
 "nbformat_minor": 2
}
